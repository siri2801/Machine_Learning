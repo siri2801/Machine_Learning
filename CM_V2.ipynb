{
  "nbformat": 4,
  "nbformat_minor": 0,
  "metadata": {
    "colab": {
      "name": "CM_V2.ipynb",
      "provenance": [],
      "collapsed_sections": []
    },
    "kernelspec": {
      "name": "python3",
      "display_name": "Python 3"
    }
  },
  "cells": [
    {
      "cell_type": "code",
      "metadata": {
        "id": "tT3e02uO3NAG"
      },
      "source": [
        "import pandas as pd\n",
        "import numpy as np\n",
        "from sklearn import linear_model\n",
        "from sklearn.linear_model import SGDRegressor\n",
        "#from sklearn.pipeline import make_pipeline\n",
        "from sklearn.preprocessing import StandardScaler"
      ],
      "execution_count": null,
      "outputs": []
    },
    {
      "cell_type": "code",
      "metadata": {
        "id": "y6DjFsS37idH"
      },
      "source": [
        "from google.colab import drive\n",
        "drive.mount('/content/drive')"
      ],
      "execution_count": null,
      "outputs": []
    },
    {
      "cell_type": "code",
      "metadata": {
        "id": "HZzzQN2F8GF7"
      },
      "source": [
        "path=\"/content/drive/My Drive/DS Training/Meterial/test_clubmahindra.csv\"\n",
        "path1=\"/content/drive/My Drive/DS Training/Meterial/train_clubmahindra.csv\""
      ],
      "execution_count": null,
      "outputs": []
    },
    {
      "cell_type": "code",
      "metadata": {
        "id": "M3YqslH88nST"
      },
      "source": [
        "%%time\n",
        "test = pd.read_csv(path)\n",
        "train = pd.read_csv(path1)"
      ],
      "execution_count": null,
      "outputs": []
    },
    {
      "cell_type": "code",
      "metadata": {
        "id": "cgxLEfGu9zjO"
      },
      "source": [
        "test.head()"
      ],
      "execution_count": null,
      "outputs": []
    },
    {
      "cell_type": "code",
      "metadata": {
        "id": "M6uAZU3Y-O-b"
      },
      "source": [
        "train.head()"
      ],
      "execution_count": null,
      "outputs": []
    },
    {
      "cell_type": "code",
      "metadata": {
        "id": "tYB1JBNw-TG3"
      },
      "source": [
        "train.shape"
      ],
      "execution_count": null,
      "outputs": []
    },
    {
      "cell_type": "code",
      "metadata": {
        "id": "wZU0DwkC-jsD"
      },
      "source": [
        "train['booking_date'] = pd.to_datetime(train['booking_date'], format = '%d/%m/%y')\n",
        "test['booking_date'] = pd.to_datetime(test['booking_date'], format = '%d/%m/%y')\n",
        "train['checkin_date'] = pd.to_datetime(train['checkin_date'], format = '%d/%m/%y')\n",
        "test['checkin_date'] = pd.to_datetime(test['checkin_date'], format = '%d/%m/%y')\n",
        "\n",
        "train['checkout_date'] = pd.to_datetime(train['checkout_date'], format = '%d/%m/%y')\n",
        "test['checkout_date'] = pd.to_datetime(test['checkout_date'], format = '%d/%m/%y')\n",
        "\n",
        "train_index = list(train[train.checkin_date.dt.year ==2012].index)\n"
      ],
      "execution_count": null,
      "outputs": []
    },
    {
      "cell_type": "code",
      "metadata": {
        "id": "ddX43wVbAlti"
      },
      "source": [
        ""
      ],
      "execution_count": null,
      "outputs": []
    },
    {
      "cell_type": "code",
      "metadata": {
        "id": "MRMfSKvb-2rT"
      },
      "source": [
        "train.head(5)"
      ],
      "execution_count": null,
      "outputs": []
    },
    {
      "cell_type": "code",
      "metadata": {
        "id": "6L_5pv-YAnHy"
      },
      "source": [
        "## There was one record where room nights was -45, changing the record to 7 as per difference between checkin and checkout date\n",
        "\n",
        "train.loc[train.roomnights <0, 'roomnights'] = 7 "
      ],
      "execution_count": null,
      "outputs": []
    },
    {
      "cell_type": "code",
      "metadata": {
        "id": "kfvU_ByNApOJ"
      },
      "source": [
        "##There is only one record in train which had reservationstatusid_code as D\n",
        "\n",
        "ind = train[train.reservationstatusid_code == 'D'].index\n",
        "train.drop(index = ind, axis =0, inplace = True)\n",
        "train = train.reset_index(drop = True)"
      ],
      "execution_count": null,
      "outputs": []
    },
    {
      "cell_type": "code",
      "metadata": {
        "id": "xtKfk-jxBGgy"
      },
      "source": [
        "## filling the missing values with 0 (state unknown)\n",
        "train['state_code_residence'].fillna(value =8.0, inplace = True)\n",
        "test['state_code_residence'].fillna(value =8.0, inplace = True)\n",
        "\n",
        "## filling the missing values with 0 \n",
        "train['season_holidayed_code'].fillna(value =2.0, inplace = True)\n",
        "test['season_holidayed_code'].fillna(value =2.0, inplace = True)\n"
      ],
      "execution_count": null,
      "outputs": []
    },
    {
      "cell_type": "code",
      "metadata": {
        "id": "zLQ_vp8kB8iR"
      },
      "source": [
        "train.dtypes"
      ],
      "execution_count": null,
      "outputs": []
    },
    {
      "cell_type": "code",
      "metadata": {
        "id": "-S1M-9IACVgn"
      },
      "source": [
        "## Date features for Booking date\n",
        "\n",
        "train['booking_year'] = train['booking_date'].dt.year\n",
        "train['booking_month'] = train['booking_date'].dt.month\n",
        "train['booking_Week'] = train['booking_date'].dt.week\n",
        "train['booking_Day'] = train['booking_date'].dt.day\n",
        "train['booking_weeknum'] = train['booking_date'].dt.weekofyear\n",
        "train['booking_dayofweek'] = train['booking_date'].dt.dayofweek\n",
        "train['booking_Dayofyear'] = train['booking_date'].dt.dayofyear\n",
        "\n",
        "test['booking_year'] = test['booking_date'].dt.year\n",
        "test['booking_month'] = test['booking_date'].dt.month\n",
        "test['booking_Week'] = test['booking_date'].dt.week\n",
        "test['booking_Day'] = test['booking_date'].dt.day\n",
        "test['booking_weeknum'] = test['booking_date'].dt.weekofyear\n",
        "test['booking_dayofweek'] = test['booking_date'].dt.dayofweek\n",
        "test['booking_Dayofyear'] = test['booking_date'].dt.dayofyear"
      ],
      "execution_count": null,
      "outputs": []
    },
    {
      "cell_type": "code",
      "metadata": {
        "id": "N2S2f5HgCcV9"
      },
      "source": [
        "## Total person travelling as sum of adult count and children count\n",
        "\n",
        "train['total_nbr_ppl'] = train['numberofadults'] + train['numberofchildren']\n",
        "test['total_nbr_ppl'] = test['numberofadults'] + test['numberofchildren']\n"
      ],
      "execution_count": null,
      "outputs": []
    },
    {
      "cell_type": "code",
      "metadata": {
        "id": "Y7xFMGOtCrEg"
      },
      "source": [
        "## Total person travelling as sum of adult count and children count\n",
        "\n",
        "train['total_nbr_ppl'] = train['numberofadults'] + train['numberofchildren']\n",
        "test['total_nbr_ppl'] = test['numberofadults'] + test['numberofchildren']"
      ],
      "execution_count": null,
      "outputs": []
    },
    {
      "cell_type": "code",
      "metadata": {
        "id": "O9bW2he4Cuoe"
      },
      "source": [
        "## Date difference features between checkin and checkout date\n",
        "\n",
        "train['prior_booking'] = (train['checkin_date'] - train['booking_date']).dt.days\n",
        "test['prior_booking'] = (test['checkin_date'] - test['booking_date']).dt.days\n",
        "\n",
        "train['length_of_stay'] = (train['checkout_date'] - train['checkin_date']).dt.days \n",
        "test['length_of_stay'] = (test['checkout_date'] - test['checkin_date']).dt.days\n",
        "\n",
        "train['prior_booking_week'] = ((train['checkin_date'] - train['booking_date']).dt.days)/7\n",
        "#train['prior_booking_week'] = train['prior_booking_week'].apply(lambda x: math.ceil(x))\n",
        "\n",
        "test['prior_booking_week'] = ((test['checkin_date'] - test['booking_date']).dt.days)/7\n",
        "#test['prior_booking_week'] = test['prior_booking_week'].apply(lambda x: math.ceil(x))\n",
        "\n",
        "\n",
        "train['prior_booking_month'] = ((train['checkin_date'] - train['booking_date']).dt.days)/30\n",
        "#train['prior_booking_month'] = train['prior_booking_month'].apply(lambda x: math.ceil(x))\n",
        "\n",
        "test['prior_booking_month'] = ((test['checkin_date'] - test['booking_date']).dt.days)/30\n",
        "#test['prior_booking_month'] = test['prior_booking_month'].apply(lambda x: math.ceil(x))"
      ],
      "execution_count": null,
      "outputs": []
    },
    {
      "cell_type": "code",
      "metadata": {
        "id": "l-I-_IELDQ3g"
      },
      "source": [
        "## Date features for checkin date\n",
        "\n",
        "train['checking_year'] = train['checkin_date'].dt.year\n",
        "test['checking_year'] = test['checkin_date'].dt.year\n",
        "\n",
        "train['checking_month'] = train['checkin_date'].dt.month\n",
        "test['checking_month'] = test['checkin_date'].dt.month\n",
        "\n",
        "train['checking_day'] = train['checkin_date'].dt.day\n",
        "test['checking_day'] = test['checkin_date'].dt.day\n",
        "\n",
        "#train['checking_weekday'] = train['checkin_date'].dt.weekday_name\n",
        "#test['checking_weekday'] = test['checkin_date'].dt.weekday_name\n",
        "\n",
        "train['is_year_end_checkin'] = train['checkin_date'].dt.is_year_end\n",
        "test['is_year_end_checkin'] = test['checkin_date'].dt.is_year_end\n",
        "\n",
        "\n",
        "train['is_year_start_checkin'] = train['checkin_date'].dt.is_year_start\n",
        "test['is_year_start_checkin'] = test['checkin_date'].dt.is_year_start\n",
        "\n",
        "\n",
        "train['is_month_end_checkin'] = train['checkin_date'].dt.is_month_end\n",
        "test['is_month_end_checkin'] = test['checkin_date'].dt.is_month_end\n",
        "\n",
        "\n",
        "train['is_month_start_checkin'] = train['checkin_date'].dt.is_month_start\n",
        "test['is_month_start_checkin'] = test['checkin_date'].dt.is_month_start"
      ],
      "execution_count": null,
      "outputs": []
    },
    {
      "cell_type": "code",
      "metadata": {
        "id": "fUL8YNGDD0-S"
      },
      "source": [
        "## imputing the rows where we have issues in prior booking with median prior booking day of 33 days\n",
        "\n",
        "train.loc[train.prior_booking <0, 'prior_booking'] = 33\n"
      ],
      "execution_count": null,
      "outputs": []
    },
    {
      "cell_type": "code",
      "metadata": {
        "id": "8JMfJNGAFeU0"
      },
      "source": [
        "nbr_booking_train = train.groupby(by = 'memberid').count()[['reservation_id']].reset_index()\n",
        "nbr_booking_train.columns = ['memberid','nbr_booking']\n",
        "\n",
        "train = train.merge(nbr_booking_train, on= 'memberid')\n",
        "\n",
        "nbr_booking_test = test.groupby(by = 'memberid').count()[['reservation_id']].reset_index()\n",
        "nbr_booking_test.columns = ['memberid','nbr_booking']\n",
        "\n",
        "test = test.merge(nbr_booking_test, on= 'memberid')\n",
        "\n",
        "nbr_booking_train = train.groupby(by = 'memberid').sum()[['length_of_stay']].reset_index()\n",
        "nbr_booking_train.columns = ['memberid','total_stay_days']\n",
        "\n",
        "train = train.merge(nbr_booking_train, on= 'memberid')\n",
        "\n",
        "nbr_booking_test = test.groupby(by = 'memberid').sum()[['length_of_stay']].reset_index()\n",
        "nbr_booking_test.columns = ['memberid','total_stay_days']\n",
        "\n",
        "test = test.merge(nbr_booking_test, on= 'memberid')\n",
        "\n",
        "\n",
        "nbr_booking_train = train.groupby(by = 'memberid').mean()[['length_of_stay']].reset_index()\n",
        "nbr_booking_train.columns = ['memberid','avg_stay_days']\n",
        "\n",
        "train = train.merge(nbr_booking_train, on= 'memberid')\n",
        "\n",
        "nbr_booking_test = test.groupby(by = 'memberid').mean()[['length_of_stay']].reset_index()\n",
        "nbr_booking_test.columns = ['memberid','avg_stay_days']\n",
        "\n",
        "test = test.merge(nbr_booking_test, on= 'memberid')\n",
        "\n",
        "\n",
        "nbr_booking_train = train.groupby(by = 'memberid').mean()[['numberofadults']].reset_index()\n",
        "nbr_booking_train.columns = ['memberid','avg_numberofadults']\n",
        "\n",
        "train = train.merge(nbr_booking_train, on= 'memberid')\n",
        "\n",
        "nbr_booking_test = test.groupby(by = 'memberid').mean()[['numberofadults']].reset_index()\n",
        "nbr_booking_test.columns = ['memberid','avg_numberofadults']\n",
        "\n",
        "test = test.merge(nbr_booking_test, on= 'memberid')\n",
        "\n",
        "\n",
        "\n",
        "nbr_booking_train = train.groupby(by = 'memberid').mean()[['total_nbr_ppl']].reset_index()\n",
        "nbr_booking_train.columns = ['memberid','avg_total_nbr_ppl']\n",
        "\n",
        "train = train.merge(nbr_booking_train, on= 'memberid')\n",
        "\n",
        "nbr_booking_test = test.groupby(by = 'memberid').mean()[['total_nbr_ppl']].reset_index()\n",
        "nbr_booking_test.columns = ['memberid','avg_total_nbr_ppl']\n",
        "\n",
        "test = test.merge(nbr_booking_test, on= 'memberid')"
      ],
      "execution_count": null,
      "outputs": []
    },
    {
      "cell_type": "code",
      "metadata": {
        "id": "eJyi-1lxF4Fi"
      },
      "source": [
        "\n",
        "## delete reservation id columns\n",
        "\n",
        "train.drop(columns='reservation_id', axis =1, inplace= True)\n",
        "test.drop(columns='reservation_id', axis =1, inplace= True)\n",
        "\n",
        "## delete date columns\n",
        "\n",
        "train.drop(columns=['booking_date','checkin_date','checkout_date'], axis =1, inplace= True)\n",
        "test.drop(columns=['booking_date','checkin_date','checkout_date'], axis =1, inplace= True)\n",
        "\n",
        "## delete member id columns\n",
        "\n",
        "train.drop(columns='memberid', axis =1, inplace= True)\n",
        "test.drop(columns='memberid', axis =1, inplace= True)\n",
        "\n",
        "\n"
      ],
      "execution_count": null,
      "outputs": []
    },
    {
      "cell_type": "code",
      "metadata": {
        "id": "RdPKGHQNQaTF"
      },
      "source": [
        ""
      ],
      "execution_count": null,
      "outputs": []
    },
    {
      "cell_type": "code",
      "metadata": {
        "id": "UPPl6FKMWxVE"
      },
      "source": [
        ""
      ],
      "execution_count": null,
      "outputs": []
    },
    {
      "cell_type": "code",
      "metadata": {
        "id": "i0f0cYwkywGr"
      },
      "source": [
        "test=test.drop(columns=['amount_spent_per_room_night_scaled'], axis =1, inplace= True)\n",
        "train=train.drop(columns=['amount_spent_per_room_night_scaled'], axis =1, inplace= True)"
      ],
      "execution_count": null,
      "outputs": []
    },
    {
      "cell_type": "code",
      "metadata": {
        "id": "0tFG97Xcyx_l"
      },
      "source": [
        "## Created data for baseline linear model\n",
        "df_train = pd.get_dummies(train)\n",
        "#df_test = pd.get_dummies(test)"
      ],
      "execution_count": null,
      "outputs": []
    },
    {
      "cell_type": "markdown",
      "metadata": {
        "id": "ZI71V1jZSIdL"
      },
      "source": [
        ""
      ]
    },
    {
      "cell_type": "code",
      "metadata": {
        "id": "RgrMS1CyGSjR"
      },
      "source": [
        "train.head(20)"
      ],
      "execution_count": null,
      "outputs": []
    },
    {
      "cell_type": "code",
      "metadata": {
        "id": "BKN1weFv48Xl"
      },
      "source": [
        "#Importing the simple LinearRegression\n",
        "from sklearn.linear_model import LinearRegression\n",
        "#Importing the simple LinearRegression\n",
        "reg = LinearRegression()"
      ],
      "execution_count": null,
      "outputs": []
    },
    {
      "cell_type": "code",
      "metadata": {
        "id": "x85JgWCo5dB7"
      },
      "source": [
        "#Fitting the data to the regression\n",
        "reg.fit(df_train, df_test)"
      ],
      "execution_count": null,
      "outputs": []
    },
    {
      "cell_type": "markdown",
      "metadata": {
        "id": "vUQEE7b97svz"
      },
      "source": [
        "# New Section"
      ]
    }
  ]
}