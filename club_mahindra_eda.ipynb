{
  "nbformat": 4,
  "nbformat_minor": 0,
  "metadata": {
    "colab": {
      "name": "club mahindra_eda.ipynb",
      "provenance": [],
      "collapsed_sections": []
    },
    "kernelspec": {
      "name": "python3",
      "display_name": "Python 3"
    }
  },
  "cells": [
    {
      "cell_type": "markdown",
      "metadata": {
        "id": "C5VtstAJsdf4"
      },
      "source": [
        "##Import packages"
      ]
    },
    {
      "cell_type": "code",
      "metadata": {
        "id": "sjqisVVH-9-i",
        "colab": {
          "base_uri": "https://localhost:8080/",
          "height": 71
        },
        "outputId": "9675293a-92a5-42bc-9ee4-e22d3df789fc"
      },
      "source": [
        "import pandas as pd\n",
        "import matplotlib.pyplot as plt\n",
        "%matplotlib inline\n",
        "import xlrd\n",
        "import numpy as np\n",
        "import seaborn as sns\n"
      ],
      "execution_count": null,
      "outputs": [
        {
          "output_type": "stream",
          "text": [
            "/usr/local/lib/python3.6/dist-packages/statsmodels/tools/_testing.py:19: FutureWarning: pandas.util.testing is deprecated. Use the functions in the public API at pandas.testing instead.\n",
            "  import pandas.util.testing as tm\n"
          ],
          "name": "stderr"
        }
      ]
    },
    {
      "cell_type": "code",
      "metadata": {
        "id": "GISxvEvJBFtK"
      },
      "source": [
        "# extracting sample from the main data\n",
        "#grouped=g.groupby(\"booking_date\")\n",
        "#grouped.apply(lambda x: x.sample(frac=0.2)).to_csv(\"/content/drive/My Drive/DS Training/Meterial/trainsample.csv\",index=False)"
      ],
      "execution_count": null,
      "outputs": []
    },
    {
      "cell_type": "markdown",
      "metadata": {
        "id": "o9vpgqW3snoY"
      },
      "source": [
        "##Read Data"
      ]
    },
    {
      "cell_type": "code",
      "metadata": {
        "id": "Yj_b7ICvtOG9",
        "colab": {
          "base_uri": "https://localhost:8080/",
          "height": 34
        },
        "outputId": "d0b16382-2e0a-40f1-bdd0-59fc92275b41"
      },
      "source": [
        "from google.colab import drive\n",
        "drive.mount('/content/drive')"
      ],
      "execution_count": null,
      "outputs": [
        {
          "output_type": "stream",
          "text": [
            "Mounted at /content/drive\n"
          ],
          "name": "stdout"
        }
      ]
    },
    {
      "cell_type": "code",
      "metadata": {
        "id": "-MLKx29qI-xT",
        "colab": {
          "base_uri": "https://localhost:8080/",
          "height": 439
        },
        "outputId": "dfa1d42d-59c7-44e2-da36-674aa643d510"
      },
      "source": [
        "\n",
        "path=\"/content/drive/My Drive/DS Training/Meterial/train.csv\"\n",
        "df=pd.read_csv(path)\n",
        "df"
      ],
      "execution_count": null,
      "outputs": [
        {
          "output_type": "execute_result",
          "data": {
            "text/html": [
              "<div>\n",
              "<style scoped>\n",
              "    .dataframe tbody tr th:only-of-type {\n",
              "        vertical-align: middle;\n",
              "    }\n",
              "\n",
              "    .dataframe tbody tr th {\n",
              "        vertical-align: top;\n",
              "    }\n",
              "\n",
              "    .dataframe thead th {\n",
              "        text-align: right;\n",
              "    }\n",
              "</style>\n",
              "<table border=\"1\" class=\"dataframe\">\n",
              "  <thead>\n",
              "    <tr style=\"text-align: right;\">\n",
              "      <th></th>\n",
              "      <th>reservation_id</th>\n",
              "      <th>booking_date</th>\n",
              "      <th>checkin_date</th>\n",
              "      <th>checkout_date</th>\n",
              "      <th>channel_code</th>\n",
              "      <th>main_product_code</th>\n",
              "      <th>numberofadults</th>\n",
              "      <th>numberofchildren</th>\n",
              "      <th>persontravellingid</th>\n",
              "      <th>resort_region_code</th>\n",
              "      <th>resort_type_code</th>\n",
              "      <th>room_type_booked_code</th>\n",
              "      <th>roomnights</th>\n",
              "      <th>season_holidayed_code</th>\n",
              "      <th>state_code_residence</th>\n",
              "      <th>state_code_resort</th>\n",
              "      <th>total_pax</th>\n",
              "      <th>member_age_buckets</th>\n",
              "      <th>booking_type_code</th>\n",
              "      <th>memberid</th>\n",
              "      <th>cluster_code</th>\n",
              "      <th>reservationstatusid_code</th>\n",
              "      <th>resort_id</th>\n",
              "      <th>amount_spent_per_room_night_scaled</th>\n",
              "    </tr>\n",
              "  </thead>\n",
              "  <tbody>\n",
              "    <tr>\n",
              "      <th>0</th>\n",
              "      <td>07659f3758d8aee27f5a7e2887adeacb67021cb95ada1b...</td>\n",
              "      <td>05/04/18</td>\n",
              "      <td>05/04/18</td>\n",
              "      <td>06/04/18</td>\n",
              "      <td>3</td>\n",
              "      <td>1</td>\n",
              "      <td>2</td>\n",
              "      <td>0</td>\n",
              "      <td>46</td>\n",
              "      <td>3</td>\n",
              "      <td>3</td>\n",
              "      <td>3</td>\n",
              "      <td>1</td>\n",
              "      <td>2.0</td>\n",
              "      <td>7.0</td>\n",
              "      <td>3</td>\n",
              "      <td>3</td>\n",
              "      <td>F</td>\n",
              "      <td>1</td>\n",
              "      <td>3d1539e56495b6991f0a3ef5a61ca3d03ce4fff7380e9a...</td>\n",
              "      <td>F</td>\n",
              "      <td>C</td>\n",
              "      <td>4e07408562bedb8b60ce05c1decfe3ad16b72230967de0...</td>\n",
              "      <td>7.706428</td>\n",
              "    </tr>\n",
              "    <tr>\n",
              "      <th>1</th>\n",
              "      <td>03930f033646d073462b35d411616323597715ac4fc398...</td>\n",
              "      <td>23/01/15</td>\n",
              "      <td>11/04/15</td>\n",
              "      <td>16/04/15</td>\n",
              "      <td>1</td>\n",
              "      <td>1</td>\n",
              "      <td>2</td>\n",
              "      <td>0</td>\n",
              "      <td>46</td>\n",
              "      <td>3</td>\n",
              "      <td>3</td>\n",
              "      <td>4</td>\n",
              "      <td>5</td>\n",
              "      <td>2.0</td>\n",
              "      <td>7.0</td>\n",
              "      <td>5</td>\n",
              "      <td>2</td>\n",
              "      <td>F</td>\n",
              "      <td>1</td>\n",
              "      <td>3d1539e56495b6991f0a3ef5a61ca3d03ce4fff7380e9a...</td>\n",
              "      <td>F</td>\n",
              "      <td>A</td>\n",
              "      <td>39fa9ec190eee7b6f4dff1100d6343e10918d044c75eac...</td>\n",
              "      <td>6.662563</td>\n",
              "    </tr>\n",
              "    <tr>\n",
              "      <th>2</th>\n",
              "      <td>d145a32920e6587ad95bfe299d80c0affa268220535aaf...</td>\n",
              "      <td>28/01/15</td>\n",
              "      <td>01/02/15</td>\n",
              "      <td>05/02/15</td>\n",
              "      <td>1</td>\n",
              "      <td>1</td>\n",
              "      <td>2</td>\n",
              "      <td>0</td>\n",
              "      <td>47</td>\n",
              "      <td>1</td>\n",
              "      <td>5</td>\n",
              "      <td>4</td>\n",
              "      <td>4</td>\n",
              "      <td>2.0</td>\n",
              "      <td>7.0</td>\n",
              "      <td>1</td>\n",
              "      <td>2</td>\n",
              "      <td>F</td>\n",
              "      <td>1</td>\n",
              "      <td>3d1539e56495b6991f0a3ef5a61ca3d03ce4fff7380e9a...</td>\n",
              "      <td>E</td>\n",
              "      <td>A</td>\n",
              "      <td>535fa30d7e25dd8a49f1536779734ec8286108d115da50...</td>\n",
              "      <td>7.871602</td>\n",
              "    </tr>\n",
              "    <tr>\n",
              "      <th>3</th>\n",
              "      <td>cfd77f44811ed62f25a220b53324cdbafc662a4c9e5f04...</td>\n",
              "      <td>02/05/15</td>\n",
              "      <td>11/06/15</td>\n",
              "      <td>16/06/15</td>\n",
              "      <td>1</td>\n",
              "      <td>1</td>\n",
              "      <td>2</td>\n",
              "      <td>2</td>\n",
              "      <td>46</td>\n",
              "      <td>2</td>\n",
              "      <td>2</td>\n",
              "      <td>3</td>\n",
              "      <td>5</td>\n",
              "      <td>2.0</td>\n",
              "      <td>7.0</td>\n",
              "      <td>2</td>\n",
              "      <td>2</td>\n",
              "      <td>F</td>\n",
              "      <td>1</td>\n",
              "      <td>3d1539e56495b6991f0a3ef5a61ca3d03ce4fff7380e9a...</td>\n",
              "      <td>D</td>\n",
              "      <td>A</td>\n",
              "      <td>d4735e3a265e16eee03f59718b9b5d03019c07d8b6c51f...</td>\n",
              "      <td>5.344943</td>\n",
              "    </tr>\n",
              "    <tr>\n",
              "      <th>4</th>\n",
              "      <td>937cff9e4dcfc2459620153dfc8b9962ac22bea67dfb29...</td>\n",
              "      <td>02/09/15</td>\n",
              "      <td>14/12/15</td>\n",
              "      <td>19/12/15</td>\n",
              "      <td>1</td>\n",
              "      <td>1</td>\n",
              "      <td>2</td>\n",
              "      <td>0</td>\n",
              "      <td>46</td>\n",
              "      <td>2</td>\n",
              "      <td>2</td>\n",
              "      <td>4</td>\n",
              "      <td>5</td>\n",
              "      <td>2.0</td>\n",
              "      <td>7.0</td>\n",
              "      <td>2</td>\n",
              "      <td>2</td>\n",
              "      <td>F</td>\n",
              "      <td>1</td>\n",
              "      <td>3d1539e56495b6991f0a3ef5a61ca3d03ce4fff7380e9a...</td>\n",
              "      <td>D</td>\n",
              "      <td>A</td>\n",
              "      <td>d4735e3a265e16eee03f59718b9b5d03019c07d8b6c51f...</td>\n",
              "      <td>7.059346</td>\n",
              "    </tr>\n",
              "    <tr>\n",
              "      <th>...</th>\n",
              "      <td>...</td>\n",
              "      <td>...</td>\n",
              "      <td>...</td>\n",
              "      <td>...</td>\n",
              "      <td>...</td>\n",
              "      <td>...</td>\n",
              "      <td>...</td>\n",
              "      <td>...</td>\n",
              "      <td>...</td>\n",
              "      <td>...</td>\n",
              "      <td>...</td>\n",
              "      <td>...</td>\n",
              "      <td>...</td>\n",
              "      <td>...</td>\n",
              "      <td>...</td>\n",
              "      <td>...</td>\n",
              "      <td>...</td>\n",
              "      <td>...</td>\n",
              "      <td>...</td>\n",
              "      <td>...</td>\n",
              "      <td>...</td>\n",
              "      <td>...</td>\n",
              "      <td>...</td>\n",
              "      <td>...</td>\n",
              "    </tr>\n",
              "    <tr>\n",
              "      <th>341419</th>\n",
              "      <td>a804d59b74b1d532a90740ded80dd05873bbef125bc349...</td>\n",
              "      <td>11/02/19</td>\n",
              "      <td>27/02/19</td>\n",
              "      <td>01/03/19</td>\n",
              "      <td>2</td>\n",
              "      <td>2</td>\n",
              "      <td>4</td>\n",
              "      <td>0</td>\n",
              "      <td>47</td>\n",
              "      <td>1</td>\n",
              "      <td>1</td>\n",
              "      <td>2</td>\n",
              "      <td>4</td>\n",
              "      <td>4.0</td>\n",
              "      <td>8.0</td>\n",
              "      <td>1</td>\n",
              "      <td>2</td>\n",
              "      <td>I</td>\n",
              "      <td>1</td>\n",
              "      <td>0095e00c6dae789d37628bd85697e53c423231337994c4...</td>\n",
              "      <td>E</td>\n",
              "      <td>A</td>\n",
              "      <td>c6f3ac57944a531490cd39902d0f777715fd005efac9a3...</td>\n",
              "      <td>5.918087</td>\n",
              "    </tr>\n",
              "    <tr>\n",
              "      <th>341420</th>\n",
              "      <td>7062c92a631731e7189cf3dddb20aceeae91a883e14229...</td>\n",
              "      <td>27/02/19</td>\n",
              "      <td>28/02/19</td>\n",
              "      <td>01/03/19</td>\n",
              "      <td>2</td>\n",
              "      <td>4</td>\n",
              "      <td>2</td>\n",
              "      <td>0</td>\n",
              "      <td>45</td>\n",
              "      <td>1</td>\n",
              "      <td>5</td>\n",
              "      <td>3</td>\n",
              "      <td>1</td>\n",
              "      <td>4.0</td>\n",
              "      <td>10.0</td>\n",
              "      <td>1</td>\n",
              "      <td>2</td>\n",
              "      <td>D</td>\n",
              "      <td>1</td>\n",
              "      <td>42d7b97ad0d345da57a4010157729286418481f3d7ad24...</td>\n",
              "      <td>E</td>\n",
              "      <td>A</td>\n",
              "      <td>c75cb66ae28d8ebc6eded002c28a8ba0d06d3a78c6b5cb...</td>\n",
              "      <td>8.186771</td>\n",
              "    </tr>\n",
              "    <tr>\n",
              "      <th>341421</th>\n",
              "      <td>18a5668c302c321dc2d42a48923ceff97af633c66d72ee...</td>\n",
              "      <td>27/02/19</td>\n",
              "      <td>27/02/19</td>\n",
              "      <td>28/02/19</td>\n",
              "      <td>3</td>\n",
              "      <td>3</td>\n",
              "      <td>3</td>\n",
              "      <td>0</td>\n",
              "      <td>45</td>\n",
              "      <td>1</td>\n",
              "      <td>1</td>\n",
              "      <td>3</td>\n",
              "      <td>2</td>\n",
              "      <td>4.0</td>\n",
              "      <td>10.0</td>\n",
              "      <td>4</td>\n",
              "      <td>3</td>\n",
              "      <td>H</td>\n",
              "      <td>1</td>\n",
              "      <td>f393011a27daf3d1676417f48f44ad9ed3541285e71209...</td>\n",
              "      <td>F</td>\n",
              "      <td>A</td>\n",
              "      <td>4b227777d4dd1fc61c6f884f48641d02b4d121d3fd328c...</td>\n",
              "      <td>8.381939</td>\n",
              "    </tr>\n",
              "    <tr>\n",
              "      <th>341422</th>\n",
              "      <td>1cbe1611a122023d7e994b4cf51fcf28ce44acdbcabbfb...</td>\n",
              "      <td>27/02/19</td>\n",
              "      <td>28/02/19</td>\n",
              "      <td>01/03/19</td>\n",
              "      <td>1</td>\n",
              "      <td>3</td>\n",
              "      <td>5</td>\n",
              "      <td>0</td>\n",
              "      <td>47</td>\n",
              "      <td>2</td>\n",
              "      <td>2</td>\n",
              "      <td>2</td>\n",
              "      <td>2</td>\n",
              "      <td>3.0</td>\n",
              "      <td>8.0</td>\n",
              "      <td>2</td>\n",
              "      <td>3</td>\n",
              "      <td>B</td>\n",
              "      <td>1</td>\n",
              "      <td>b14649c29eb050f4e9b69c7a3afb5dfa00d12dabfd2e40...</td>\n",
              "      <td>D</td>\n",
              "      <td>A</td>\n",
              "      <td>6208ef0f7750c111548cf90b6ea1d0d0a66f6bff40dbef...</td>\n",
              "      <td>8.856035</td>\n",
              "    </tr>\n",
              "    <tr>\n",
              "      <th>341423</th>\n",
              "      <td>8712dd3ce2e36f2fbcd16b24aa3b89bd1c5203a39e578b...</td>\n",
              "      <td>28/02/19</td>\n",
              "      <td>01/03/19</td>\n",
              "      <td>02/03/19</td>\n",
              "      <td>3</td>\n",
              "      <td>3</td>\n",
              "      <td>2</td>\n",
              "      <td>0</td>\n",
              "      <td>45</td>\n",
              "      <td>2</td>\n",
              "      <td>1</td>\n",
              "      <td>2</td>\n",
              "      <td>1</td>\n",
              "      <td>2.0</td>\n",
              "      <td>8.0</td>\n",
              "      <td>7</td>\n",
              "      <td>5</td>\n",
              "      <td>B</td>\n",
              "      <td>2</td>\n",
              "      <td>2a3936f649eb6af2167f41fb6f0cc9f352d142125f402f...</td>\n",
              "      <td>C</td>\n",
              "      <td>A</td>\n",
              "      <td>9400f1b21cb527d7fa3d3eabba93557a18ebe7a2ca4e47...</td>\n",
              "      <td>7.864627</td>\n",
              "    </tr>\n",
              "  </tbody>\n",
              "</table>\n",
              "<p>341424 rows × 24 columns</p>\n",
              "</div>"
            ],
            "text/plain": [
              "                                           reservation_id  ... amount_spent_per_room_night_scaled\n",
              "0       07659f3758d8aee27f5a7e2887adeacb67021cb95ada1b...  ...                           7.706428\n",
              "1       03930f033646d073462b35d411616323597715ac4fc398...  ...                           6.662563\n",
              "2       d145a32920e6587ad95bfe299d80c0affa268220535aaf...  ...                           7.871602\n",
              "3       cfd77f44811ed62f25a220b53324cdbafc662a4c9e5f04...  ...                           5.344943\n",
              "4       937cff9e4dcfc2459620153dfc8b9962ac22bea67dfb29...  ...                           7.059346\n",
              "...                                                   ...  ...                                ...\n",
              "341419  a804d59b74b1d532a90740ded80dd05873bbef125bc349...  ...                           5.918087\n",
              "341420  7062c92a631731e7189cf3dddb20aceeae91a883e14229...  ...                           8.186771\n",
              "341421  18a5668c302c321dc2d42a48923ceff97af633c66d72ee...  ...                           8.381939\n",
              "341422  1cbe1611a122023d7e994b4cf51fcf28ce44acdbcabbfb...  ...                           8.856035\n",
              "341423  8712dd3ce2e36f2fbcd16b24aa3b89bd1c5203a39e578b...  ...                           7.864627\n",
              "\n",
              "[341424 rows x 24 columns]"
            ]
          },
          "metadata": {
            "tags": []
          },
          "execution_count": 5
        }
      ]
    },
    {
      "cell_type": "markdown",
      "metadata": {
        "id": "8uEEnFkQtABe"
      },
      "source": [
        "##Basic analysis- shape and dimensions"
      ]
    },
    {
      "cell_type": "code",
      "metadata": {
        "id": "rMVq_d_XstLl",
        "colab": {
          "base_uri": "https://localhost:8080/",
          "height": 221
        },
        "outputId": "7aad66d8-405d-40f2-b1ab-1ca53104f4e9"
      },
      "source": [
        "df.channel_code==3"
      ],
      "execution_count": null,
      "outputs": [
        {
          "output_type": "execute_result",
          "data": {
            "text/plain": [
              "0          True\n",
              "1         False\n",
              "2         False\n",
              "3         False\n",
              "4         False\n",
              "          ...  \n",
              "341419    False\n",
              "341420    False\n",
              "341421     True\n",
              "341422    False\n",
              "341423     True\n",
              "Name: channel_code, Length: 341424, dtype: bool"
            ]
          },
          "metadata": {
            "tags": []
          },
          "execution_count": 6
        }
      ]
    },
    {
      "cell_type": "code",
      "metadata": {
        "id": "IE4aWhbzHYBe",
        "colab": {
          "base_uri": "https://localhost:8080/",
          "height": 170
        },
        "outputId": "0c4b7307-b8aa-4d84-863f-f08c875c5cc9"
      },
      "source": [
        "df.columns"
      ],
      "execution_count": null,
      "outputs": [
        {
          "output_type": "execute_result",
          "data": {
            "text/plain": [
              "Index(['reservation_id', 'booking_date', 'checkin_date', 'checkout_date',\n",
              "       'channel_code', 'main_product_code', 'numberofadults',\n",
              "       'numberofchildren', 'persontravellingid', 'resort_region_code',\n",
              "       'resort_type_code', 'room_type_booked_code', 'roomnights',\n",
              "       'season_holidayed_code', 'state_code_residence', 'state_code_resort',\n",
              "       'total_pax', 'member_age_buckets', 'booking_type_code', 'memberid',\n",
              "       'cluster_code', 'reservationstatusid_code', 'resort_id',\n",
              "       'amount_spent_per_room_night_scaled'],\n",
              "      dtype='object')"
            ]
          },
          "metadata": {
            "tags": []
          },
          "execution_count": 7
        }
      ]
    },
    {
      "cell_type": "code",
      "metadata": {
        "id": "kBSBKlGRHcaH",
        "colab": {
          "base_uri": "https://localhost:8080/",
          "height": 34
        },
        "outputId": "826a2f96-66aa-4433-cea3-14ccfb099077"
      },
      "source": [
        "df.shape"
      ],
      "execution_count": null,
      "outputs": [
        {
          "output_type": "execute_result",
          "data": {
            "text/plain": [
              "(341424, 24)"
            ]
          },
          "metadata": {
            "tags": []
          },
          "execution_count": 8
        }
      ]
    },
    {
      "cell_type": "code",
      "metadata": {
        "id": "tftqN1FnHnDc",
        "colab": {
          "base_uri": "https://localhost:8080/",
          "height": 68
        },
        "outputId": "6ccbe3b7-259a-4ab5-91e1-f61644cb26d9"
      },
      "source": [
        "df['memberid'].duplicated().value_counts()"
      ],
      "execution_count": null,
      "outputs": [
        {
          "output_type": "execute_result",
          "data": {
            "text/plain": [
              "True     240097\n",
              "False    101327\n",
              "Name: memberid, dtype: int64"
            ]
          },
          "metadata": {
            "tags": []
          },
          "execution_count": 9
        }
      ]
    },
    {
      "cell_type": "code",
      "metadata": {
        "id": "Iq3GO9AdHp57",
        "colab": {
          "base_uri": "https://localhost:8080/",
          "height": 34
        },
        "outputId": "6ad2cc7d-7437-4b69-9d14-d02ed90e8e11"
      },
      "source": [
        "df.size"
      ],
      "execution_count": null,
      "outputs": [
        {
          "output_type": "execute_result",
          "data": {
            "text/plain": [
              "8194176"
            ]
          },
          "metadata": {
            "tags": []
          },
          "execution_count": 10
        }
      ]
    },
    {
      "cell_type": "code",
      "metadata": {
        "id": "5MCftGHhH3lh",
        "colab": {
          "base_uri": "https://localhost:8080/",
          "height": 867
        },
        "outputId": "857658a5-9140-4743-ce66-8b2f47fc9480"
      },
      "source": [
        "for column in df.columns:\n",
        "\n",
        "  g=df[column].isnull().value_counts()\n",
        "  print (g)"
      ],
      "execution_count": null,
      "outputs": [
        {
          "output_type": "stream",
          "text": [
            "False    341424\n",
            "Name: reservation_id, dtype: int64\n",
            "False    341424\n",
            "Name: booking_date, dtype: int64\n",
            "False    341424\n",
            "Name: checkin_date, dtype: int64\n",
            "False    341424\n",
            "Name: checkout_date, dtype: int64\n",
            "False    341424\n",
            "Name: channel_code, dtype: int64\n",
            "False    341424\n",
            "Name: main_product_code, dtype: int64\n",
            "False    341424\n",
            "Name: numberofadults, dtype: int64\n",
            "False    341424\n",
            "Name: numberofchildren, dtype: int64\n",
            "False    341424\n",
            "Name: persontravellingid, dtype: int64\n",
            "False    341424\n",
            "Name: resort_region_code, dtype: int64\n",
            "False    341424\n",
            "Name: resort_type_code, dtype: int64\n",
            "False    341424\n",
            "Name: room_type_booked_code, dtype: int64\n",
            "False    341424\n",
            "Name: roomnights, dtype: int64\n",
            "False    341310\n",
            "True        114\n",
            "Name: season_holidayed_code, dtype: int64\n",
            "False    336660\n",
            "True       4764\n",
            "Name: state_code_residence, dtype: int64\n",
            "False    341424\n",
            "Name: state_code_resort, dtype: int64\n",
            "False    341424\n",
            "Name: total_pax, dtype: int64\n",
            "False    341424\n",
            "Name: member_age_buckets, dtype: int64\n",
            "False    341424\n",
            "Name: booking_type_code, dtype: int64\n",
            "False    341424\n",
            "Name: memberid, dtype: int64\n",
            "False    341424\n",
            "Name: cluster_code, dtype: int64\n",
            "False    341424\n",
            "Name: reservationstatusid_code, dtype: int64\n",
            "False    341424\n",
            "Name: resort_id, dtype: int64\n",
            "False    341424\n",
            "Name: amount_spent_per_room_night_scaled, dtype: int64\n"
          ],
          "name": "stdout"
        }
      ]
    },
    {
      "cell_type": "code",
      "metadata": {
        "id": "mck_2E3eqvOj",
        "colab": {
          "base_uri": "https://localhost:8080/",
          "height": 459
        },
        "outputId": "b6584136-2fc6-4799-92a0-3b73ef5330d6"
      },
      "source": [
        "for column in df.columns:\n",
        "\n",
        "  g=df[column].isnull().value_counts()\n",
        "\n",
        "  print (g[g.index==True])"
      ],
      "execution_count": null,
      "outputs": [
        {
          "output_type": "stream",
          "text": [
            "Series([], Name: reservation_id, dtype: int64)\n",
            "Series([], Name: booking_date, dtype: int64)\n",
            "Series([], Name: checkin_date, dtype: int64)\n",
            "Series([], Name: checkout_date, dtype: int64)\n",
            "Series([], Name: channel_code, dtype: int64)\n",
            "Series([], Name: main_product_code, dtype: int64)\n",
            "Series([], Name: numberofadults, dtype: int64)\n",
            "Series([], Name: numberofchildren, dtype: int64)\n",
            "Series([], Name: persontravellingid, dtype: int64)\n",
            "Series([], Name: resort_region_code, dtype: int64)\n",
            "Series([], Name: resort_type_code, dtype: int64)\n",
            "Series([], Name: room_type_booked_code, dtype: int64)\n",
            "Series([], Name: roomnights, dtype: int64)\n",
            "True    114\n",
            "Name: season_holidayed_code, dtype: int64\n",
            "True    4764\n",
            "Name: state_code_residence, dtype: int64\n",
            "Series([], Name: state_code_resort, dtype: int64)\n",
            "Series([], Name: total_pax, dtype: int64)\n",
            "Series([], Name: member_age_buckets, dtype: int64)\n",
            "Series([], Name: booking_type_code, dtype: int64)\n",
            "Series([], Name: memberid, dtype: int64)\n",
            "Series([], Name: cluster_code, dtype: int64)\n",
            "Series([], Name: reservationstatusid_code, dtype: int64)\n",
            "Series([], Name: resort_id, dtype: int64)\n",
            "Series([], Name: amount_spent_per_room_night_scaled, dtype: int64)\n"
          ],
          "name": "stdout"
        }
      ]
    },
    {
      "cell_type": "code",
      "metadata": {
        "id": "M9KUy0dXqt8A",
        "colab": {
          "base_uri": "https://localhost:8080/",
          "height": 51
        },
        "outputId": "4a6b41f2-c3bb-409f-be5b-c6c08cffb11c"
      },
      "source": [
        "g=df['season_holidayed_code'].isnull().value_counts()\n",
        "type(g)\n",
        "g[g.index==True]\n"
      ],
      "execution_count": null,
      "outputs": [
        {
          "output_type": "execute_result",
          "data": {
            "text/plain": [
              "True    114\n",
              "Name: season_holidayed_code, dtype: int64"
            ]
          },
          "metadata": {
            "tags": []
          },
          "execution_count": 13
        }
      ]
    },
    {
      "cell_type": "code",
      "metadata": {
        "id": "xeo5fC6Ct972",
        "colab": {
          "base_uri": "https://localhost:8080/",
          "height": 442
        },
        "outputId": "47fbff95-cd2b-4a72-8d70-5b25e8d54dde"
      },
      "source": [
        "df.dtypes"
      ],
      "execution_count": null,
      "outputs": [
        {
          "output_type": "execute_result",
          "data": {
            "text/plain": [
              "reservation_id                         object\n",
              "booking_date                           object\n",
              "checkin_date                           object\n",
              "checkout_date                          object\n",
              "channel_code                            int64\n",
              "main_product_code                       int64\n",
              "numberofadults                          int64\n",
              "numberofchildren                        int64\n",
              "persontravellingid                      int64\n",
              "resort_region_code                      int64\n",
              "resort_type_code                        int64\n",
              "room_type_booked_code                   int64\n",
              "roomnights                              int64\n",
              "season_holidayed_code                 float64\n",
              "state_code_residence                  float64\n",
              "state_code_resort                       int64\n",
              "total_pax                               int64\n",
              "member_age_buckets                     object\n",
              "booking_type_code                       int64\n",
              "memberid                               object\n",
              "cluster_code                           object\n",
              "reservationstatusid_code               object\n",
              "resort_id                              object\n",
              "amount_spent_per_room_night_scaled    float64\n",
              "dtype: object"
            ]
          },
          "metadata": {
            "tags": []
          },
          "execution_count": 14
        }
      ]
    },
    {
      "cell_type": "markdown",
      "metadata": {
        "id": "VYBCMCNatWkL"
      },
      "source": [
        "## Convertion of booking dates & date formates and derviving advance booking"
      ]
    },
    {
      "cell_type": "code",
      "metadata": {
        "id": "UbHNH8bbuyyu"
      },
      "source": [
        "# convert booking date to date format\n",
        "df['booking_date'] = pd.to_datetime(df['booking_date'],format='%d/%m/%y')\n",
        "# Extration of year and month \n",
        "#df['booking_year'], df['booking_month'] = df['booking_date'].dt.year, df['booking_month'].dt.month\n",
        "df['booking_year'] = df['booking_date'].dt.year\n",
        "df['booking_month']= df['booking_date'].dt.month"
      ],
      "execution_count": null,
      "outputs": []
    },
    {
      "cell_type": "code",
      "metadata": {
        "id": "V5Wr3qDDxCJO"
      },
      "source": [
        " #convert booking date to date format\n",
        "df['checkin_date'] = pd.to_datetime(df['checkin_date'],format='%d/%m/%y')\n",
        "df['checkout_date'] = pd.to_datetime(df['checkout_date'],format='%d/%m/%y')\n",
        "df['spend_days']= df['checkout_date']-df['checkin_date']\n",
        "#derive advance bokking days\n",
        "df['advance_booking']= df['checkin_date']-df['booking_date']\n"
      ],
      "execution_count": null,
      "outputs": []
    },
    {
      "cell_type": "code",
      "metadata": {
        "id": "TzNOmX3ryR8y",
        "colab": {
          "base_uri": "https://localhost:8080/",
          "height": 224
        },
        "outputId": "cd60b09b-0389-4156-8f34-04656eae367c"
      },
      "source": [
        "df.head()"
      ],
      "execution_count": null,
      "outputs": [
        {
          "output_type": "execute_result",
          "data": {
            "text/html": [
              "<div>\n",
              "<style scoped>\n",
              "    .dataframe tbody tr th:only-of-type {\n",
              "        vertical-align: middle;\n",
              "    }\n",
              "\n",
              "    .dataframe tbody tr th {\n",
              "        vertical-align: top;\n",
              "    }\n",
              "\n",
              "    .dataframe thead th {\n",
              "        text-align: right;\n",
              "    }\n",
              "</style>\n",
              "<table border=\"1\" class=\"dataframe\">\n",
              "  <thead>\n",
              "    <tr style=\"text-align: right;\">\n",
              "      <th></th>\n",
              "      <th>reservation_id</th>\n",
              "      <th>booking_date</th>\n",
              "      <th>checkin_date</th>\n",
              "      <th>checkout_date</th>\n",
              "      <th>channel_code</th>\n",
              "      <th>main_product_code</th>\n",
              "      <th>numberofadults</th>\n",
              "      <th>numberofchildren</th>\n",
              "      <th>persontravellingid</th>\n",
              "      <th>resort_region_code</th>\n",
              "      <th>resort_type_code</th>\n",
              "      <th>room_type_booked_code</th>\n",
              "      <th>roomnights</th>\n",
              "      <th>season_holidayed_code</th>\n",
              "      <th>state_code_residence</th>\n",
              "      <th>state_code_resort</th>\n",
              "      <th>total_pax</th>\n",
              "      <th>member_age_buckets</th>\n",
              "      <th>booking_type_code</th>\n",
              "      <th>memberid</th>\n",
              "      <th>cluster_code</th>\n",
              "      <th>reservationstatusid_code</th>\n",
              "      <th>resort_id</th>\n",
              "      <th>amount_spent_per_room_night_scaled</th>\n",
              "      <th>booking_year</th>\n",
              "      <th>booking_month</th>\n",
              "      <th>spend_days</th>\n",
              "      <th>advance_booking</th>\n",
              "    </tr>\n",
              "  </thead>\n",
              "  <tbody>\n",
              "    <tr>\n",
              "      <th>0</th>\n",
              "      <td>07659f3758d8aee27f5a7e2887adeacb67021cb95ada1b...</td>\n",
              "      <td>2018-04-05</td>\n",
              "      <td>2018-04-05</td>\n",
              "      <td>2018-04-06</td>\n",
              "      <td>3</td>\n",
              "      <td>1</td>\n",
              "      <td>2</td>\n",
              "      <td>0</td>\n",
              "      <td>46</td>\n",
              "      <td>3</td>\n",
              "      <td>3</td>\n",
              "      <td>3</td>\n",
              "      <td>1</td>\n",
              "      <td>2.0</td>\n",
              "      <td>7.0</td>\n",
              "      <td>3</td>\n",
              "      <td>3</td>\n",
              "      <td>F</td>\n",
              "      <td>1</td>\n",
              "      <td>3d1539e56495b6991f0a3ef5a61ca3d03ce4fff7380e9a...</td>\n",
              "      <td>F</td>\n",
              "      <td>C</td>\n",
              "      <td>4e07408562bedb8b60ce05c1decfe3ad16b72230967de0...</td>\n",
              "      <td>7.706428</td>\n",
              "      <td>2018</td>\n",
              "      <td>4</td>\n",
              "      <td>1 days</td>\n",
              "      <td>0 days</td>\n",
              "    </tr>\n",
              "    <tr>\n",
              "      <th>1</th>\n",
              "      <td>03930f033646d073462b35d411616323597715ac4fc398...</td>\n",
              "      <td>2015-01-23</td>\n",
              "      <td>2015-04-11</td>\n",
              "      <td>2015-04-16</td>\n",
              "      <td>1</td>\n",
              "      <td>1</td>\n",
              "      <td>2</td>\n",
              "      <td>0</td>\n",
              "      <td>46</td>\n",
              "      <td>3</td>\n",
              "      <td>3</td>\n",
              "      <td>4</td>\n",
              "      <td>5</td>\n",
              "      <td>2.0</td>\n",
              "      <td>7.0</td>\n",
              "      <td>5</td>\n",
              "      <td>2</td>\n",
              "      <td>F</td>\n",
              "      <td>1</td>\n",
              "      <td>3d1539e56495b6991f0a3ef5a61ca3d03ce4fff7380e9a...</td>\n",
              "      <td>F</td>\n",
              "      <td>A</td>\n",
              "      <td>39fa9ec190eee7b6f4dff1100d6343e10918d044c75eac...</td>\n",
              "      <td>6.662563</td>\n",
              "      <td>2015</td>\n",
              "      <td>1</td>\n",
              "      <td>5 days</td>\n",
              "      <td>78 days</td>\n",
              "    </tr>\n",
              "    <tr>\n",
              "      <th>2</th>\n",
              "      <td>d145a32920e6587ad95bfe299d80c0affa268220535aaf...</td>\n",
              "      <td>2015-01-28</td>\n",
              "      <td>2015-02-01</td>\n",
              "      <td>2015-02-05</td>\n",
              "      <td>1</td>\n",
              "      <td>1</td>\n",
              "      <td>2</td>\n",
              "      <td>0</td>\n",
              "      <td>47</td>\n",
              "      <td>1</td>\n",
              "      <td>5</td>\n",
              "      <td>4</td>\n",
              "      <td>4</td>\n",
              "      <td>2.0</td>\n",
              "      <td>7.0</td>\n",
              "      <td>1</td>\n",
              "      <td>2</td>\n",
              "      <td>F</td>\n",
              "      <td>1</td>\n",
              "      <td>3d1539e56495b6991f0a3ef5a61ca3d03ce4fff7380e9a...</td>\n",
              "      <td>E</td>\n",
              "      <td>A</td>\n",
              "      <td>535fa30d7e25dd8a49f1536779734ec8286108d115da50...</td>\n",
              "      <td>7.871602</td>\n",
              "      <td>2015</td>\n",
              "      <td>1</td>\n",
              "      <td>4 days</td>\n",
              "      <td>4 days</td>\n",
              "    </tr>\n",
              "    <tr>\n",
              "      <th>3</th>\n",
              "      <td>cfd77f44811ed62f25a220b53324cdbafc662a4c9e5f04...</td>\n",
              "      <td>2015-05-02</td>\n",
              "      <td>2015-06-11</td>\n",
              "      <td>2015-06-16</td>\n",
              "      <td>1</td>\n",
              "      <td>1</td>\n",
              "      <td>2</td>\n",
              "      <td>2</td>\n",
              "      <td>46</td>\n",
              "      <td>2</td>\n",
              "      <td>2</td>\n",
              "      <td>3</td>\n",
              "      <td>5</td>\n",
              "      <td>2.0</td>\n",
              "      <td>7.0</td>\n",
              "      <td>2</td>\n",
              "      <td>2</td>\n",
              "      <td>F</td>\n",
              "      <td>1</td>\n",
              "      <td>3d1539e56495b6991f0a3ef5a61ca3d03ce4fff7380e9a...</td>\n",
              "      <td>D</td>\n",
              "      <td>A</td>\n",
              "      <td>d4735e3a265e16eee03f59718b9b5d03019c07d8b6c51f...</td>\n",
              "      <td>5.344943</td>\n",
              "      <td>2015</td>\n",
              "      <td>5</td>\n",
              "      <td>5 days</td>\n",
              "      <td>40 days</td>\n",
              "    </tr>\n",
              "    <tr>\n",
              "      <th>4</th>\n",
              "      <td>937cff9e4dcfc2459620153dfc8b9962ac22bea67dfb29...</td>\n",
              "      <td>2015-09-02</td>\n",
              "      <td>2015-12-14</td>\n",
              "      <td>2015-12-19</td>\n",
              "      <td>1</td>\n",
              "      <td>1</td>\n",
              "      <td>2</td>\n",
              "      <td>0</td>\n",
              "      <td>46</td>\n",
              "      <td>2</td>\n",
              "      <td>2</td>\n",
              "      <td>4</td>\n",
              "      <td>5</td>\n",
              "      <td>2.0</td>\n",
              "      <td>7.0</td>\n",
              "      <td>2</td>\n",
              "      <td>2</td>\n",
              "      <td>F</td>\n",
              "      <td>1</td>\n",
              "      <td>3d1539e56495b6991f0a3ef5a61ca3d03ce4fff7380e9a...</td>\n",
              "      <td>D</td>\n",
              "      <td>A</td>\n",
              "      <td>d4735e3a265e16eee03f59718b9b5d03019c07d8b6c51f...</td>\n",
              "      <td>7.059346</td>\n",
              "      <td>2015</td>\n",
              "      <td>9</td>\n",
              "      <td>5 days</td>\n",
              "      <td>103 days</td>\n",
              "    </tr>\n",
              "  </tbody>\n",
              "</table>\n",
              "</div>"
            ],
            "text/plain": [
              "                                      reservation_id  ... advance_booking\n",
              "0  07659f3758d8aee27f5a7e2887adeacb67021cb95ada1b...  ...          0 days\n",
              "1  03930f033646d073462b35d411616323597715ac4fc398...  ...         78 days\n",
              "2  d145a32920e6587ad95bfe299d80c0affa268220535aaf...  ...          4 days\n",
              "3  cfd77f44811ed62f25a220b53324cdbafc662a4c9e5f04...  ...         40 days\n",
              "4  937cff9e4dcfc2459620153dfc8b9962ac22bea67dfb29...  ...        103 days\n",
              "\n",
              "[5 rows x 28 columns]"
            ]
          },
          "metadata": {
            "tags": []
          },
          "execution_count": 18
        }
      ]
    },
    {
      "cell_type": "markdown",
      "metadata": {
        "id": "WTIf8Jxtt3ZV"
      },
      "source": [
        "## Pivoting Data and Creating Graphs"
      ]
    },
    {
      "cell_type": "markdown",
      "metadata": {
        "id": "KnRnEHBZoFWK"
      },
      "source": [
        "### What is the average booking value per member? how is it trending by year?"
      ]
    },
    {
      "cell_type": "code",
      "metadata": {
        "id": "yopVRoPtIQGw",
        "colab": {
          "base_uri": "https://localhost:8080/",
          "height": 79
        },
        "outputId": "7b31d0f9-3810-4591-93f6-0e8db76cb08b"
      },
      "source": [
        "df.pivot_table(values='amount_spent_per_room_night_scaled',columns='booking_year',aggfunc='mean')"
      ],
      "execution_count": null,
      "outputs": [
        {
          "output_type": "execute_result",
          "data": {
            "text/html": [
              "<div>\n",
              "<style scoped>\n",
              "    .dataframe tbody tr th:only-of-type {\n",
              "        vertical-align: middle;\n",
              "    }\n",
              "\n",
              "    .dataframe tbody tr th {\n",
              "        vertical-align: top;\n",
              "    }\n",
              "\n",
              "    .dataframe thead th {\n",
              "        text-align: right;\n",
              "    }\n",
              "</style>\n",
              "<table border=\"1\" class=\"dataframe\">\n",
              "  <thead>\n",
              "    <tr style=\"text-align: right;\">\n",
              "      <th>booking_year</th>\n",
              "      <th>2014</th>\n",
              "      <th>2015</th>\n",
              "      <th>2016</th>\n",
              "      <th>2017</th>\n",
              "      <th>2018</th>\n",
              "      <th>2019</th>\n",
              "    </tr>\n",
              "  </thead>\n",
              "  <tbody>\n",
              "    <tr>\n",
              "      <th>amount_spent_per_room_night_scaled</th>\n",
              "      <td>7.49089</td>\n",
              "      <td>7.624088</td>\n",
              "      <td>7.686239</td>\n",
              "      <td>7.776093</td>\n",
              "      <td>7.811722</td>\n",
              "      <td>7.724254</td>\n",
              "    </tr>\n",
              "  </tbody>\n",
              "</table>\n",
              "</div>"
            ],
            "text/plain": [
              "booking_year                           2014      2015  ...      2018      2019\n",
              "amount_spent_per_room_night_scaled  7.49089  7.624088  ...  7.811722  7.724254\n",
              "\n",
              "[1 rows x 6 columns]"
            ]
          },
          "metadata": {
            "tags": []
          },
          "execution_count": 20
        }
      ]
    },
    {
      "cell_type": "code",
      "metadata": {
        "id": "obDMpdG9TYXZ",
        "colab": {
          "base_uri": "https://localhost:8080/",
          "height": 395
        },
        "outputId": "0952b20e-e38e-498e-da2e-e9addfeb2c1d"
      },
      "source": [
        "plt.figure(figsize=(16, 6))\n",
        "df.groupby(['booking_year'])['amount_spent_per_room_night_scaled'].mean().plot.bar()\n",
        "# its in between 7 to 8 on an average every year and no significant change"
      ],
      "execution_count": null,
      "outputs": [
        {
          "output_type": "execute_result",
          "data": {
            "text/plain": [
              "<matplotlib.axes._subplots.AxesSubplot at 0x7f26453c1208>"
            ]
          },
          "metadata": {
            "tags": []
          },
          "execution_count": 21
        },
        {
          "output_type": "display_data",
          "data": {
            "image/png": "[encoded data removed]",
            "text/plain": [
              "<Figure size 1152x432 with 1 Axes>"
            ]
          },
          "metadata": {
            "tags": [],
            "needs_background": "light"
          }
        }
      ]
    },
    {
      "cell_type": "markdown",
      "metadata": {
        "id": "s6AXeEYPowxK"
      },
      "source": [
        "### what are the top resorts in terms of booking, average revenue and children freindly?\n"
      ]
    },
    {
      "cell_type": "code",
      "metadata": {
        "id": "LfsJNWzXWSgd",
        "colab": {
          "base_uri": "https://localhost:8080/",
          "height": 283
        },
        "outputId": "62fe823c-29c5-4464-e8a7-b2b47eb61b10"
      },
      "source": [
        "g= df.pivot_table(index=['resort_id'], values=['reservation_id'], aggfunc='count')\n",
        "#g['reservation_id']=pd.to_numeric(g['reservation_id'])\n",
        "g.sort_values(by=['reservation_id'],inplace=True,ascending=False)\n",
        "g[:5].plot.barh()\n",
        "# Top 5 resorts in terms of booking"
      ],
      "execution_count": null,
      "outputs": [
        {
          "output_type": "execute_result",
          "data": {
            "text/plain": [
              "<matplotlib.axes._subplots.AxesSubplot at 0x7f2643f4def0>"
            ]
          },
          "metadata": {
            "tags": []
          },
          "execution_count": 22
        },
        {
          "output_type": "display_data",
          "data": {
            "image/png": "[encoded data removed]",
            "text/plain": [
              "<Figure size 432x288 with 1 Axes>"
            ]
          },
          "metadata": {
            "tags": [],
            "needs_background": "light"
          }
        }
      ]
    },
    {
      "cell_type": "code",
      "metadata": {
        "id": "OaGO1Irc5TWb",
        "colab": {
          "base_uri": "https://localhost:8080/",
          "height": 285
        },
        "outputId": "883ac6ff-ff79-4494-88ba-c3a0f89f9011"
      },
      "source": [
        "#another way of producing the bar using count plot\n",
        "plt.figure(figsize=(16, 6))\n",
        "sns.countplot(df[\"resort_id\"])"
      ],
      "execution_count": null,
      "outputs": [
        {
          "output_type": "execute_result",
          "data": {
            "text/plain": [
              "<matplotlib.axes._subplots.AxesSubplot at 0x7f2645e05908>"
            ]
          },
          "metadata": {
            "tags": []
          },
          "execution_count": 23
        },
        {
          "output_type": "display_data",
          "data": {
            "image/png": "[encoded data removed]",
            "text/plain": [
              "<Figure size 1152x432 with 1 Axes>"
            ]
          },
          "metadata": {
            "tags": [],
            "needs_background": "light"
          }
        }
      ]
    },
    {
      "cell_type": "code",
      "metadata": {
        "id": "83VK-4CgWtoR",
        "colab": {
          "base_uri": "https://localhost:8080/",
          "height": 295
        },
        "outputId": "1ce50ec3-e86f-4585-be26-3dd7de42ca72"
      },
      "source": [
        "g= df.pivot_table(index=['resort_type_code'], values=['amount_spent_per_room_night_scaled'], aggfunc='mean')\n",
        "g.sort_values(by=['amount_spent_per_room_night_scaled'], inplace=True)\n",
        "g.plot.bar()\n",
        "# Resort code 5 is top in terms of revenue"
      ],
      "execution_count": null,
      "outputs": [
        {
          "output_type": "execute_result",
          "data": {
            "text/plain": [
              "<matplotlib.axes._subplots.AxesSubplot at 0x7f2643049668>"
            ]
          },
          "metadata": {
            "tags": []
          },
          "execution_count": 24
        },
        {
          "output_type": "display_data",
          "data": {
            "image/png": "[encoded data removed]",
            "text/plain": [
              "<Figure size 432x288 with 1 Axes>"
            ]
          },
          "metadata": {
            "tags": [],
            "needs_background": "light"
          }
        }
      ]
    },
    {
      "cell_type": "code",
      "metadata": {
        "id": "iPsB8lLEyiVJ",
        "colab": {
          "base_uri": "https://localhost:8080/",
          "height": 373
        },
        "outputId": "0d08cc61-373a-45ae-a652-149e6cdb9687"
      },
      "source": [
        "#another way of producing the bar using box plot\n",
        "plt.figure(figsize=(16, 6))\n",
        "sns.boxplot(x='resort_type_code',y='amount_spent_per_room_night_scaled',data=df)\n",
        "#Resort code 5 is top in terms of revenue"
      ],
      "execution_count": null,
      "outputs": [
        {
          "output_type": "execute_result",
          "data": {
            "text/plain": [
              "<matplotlib.axes._subplots.AxesSubplot at 0x7f2655e19630>"
            ]
          },
          "metadata": {
            "tags": []
          },
          "execution_count": 25
        },
        {
          "output_type": "display_data",
          "data": {
            "image/png": "[encoded data removed]",
            "text/plain": [
              "<Figure size 1152x432 with 1 Axes>"
            ]
          },
          "metadata": {
            "tags": [],
            "needs_background": "light"
          }
        }
      ]
    },
    {
      "cell_type": "code",
      "metadata": {
        "id": "bETmX6XOWw9Z",
        "colab": {
          "base_uri": "https://localhost:8080/",
          "height": 539
        },
        "outputId": "3da8e8f6-7fa4-42d4-95a5-2f5fbaea5623"
      },
      "source": [
        "df.groupby(['state_code_resort','resort_type_code'])['numberofchildren'].count().reset_index()"
      ],
      "execution_count": null,
      "outputs": [
        {
          "output_type": "execute_result",
          "data": {
            "text/html": [
              "<div>\n",
              "<style scoped>\n",
              "    .dataframe tbody tr th:only-of-type {\n",
              "        vertical-align: middle;\n",
              "    }\n",
              "\n",
              "    .dataframe tbody tr th {\n",
              "        vertical-align: top;\n",
              "    }\n",
              "\n",
              "    .dataframe thead th {\n",
              "        text-align: right;\n",
              "    }\n",
              "</style>\n",
              "<table border=\"1\" class=\"dataframe\">\n",
              "  <thead>\n",
              "    <tr style=\"text-align: right;\">\n",
              "      <th></th>\n",
              "      <th>state_code_resort</th>\n",
              "      <th>resort_type_code</th>\n",
              "      <th>numberofchildren</th>\n",
              "    </tr>\n",
              "  </thead>\n",
              "  <tbody>\n",
              "    <tr>\n",
              "      <th>0</th>\n",
              "      <td>1</td>\n",
              "      <td>1</td>\n",
              "      <td>33124</td>\n",
              "    </tr>\n",
              "    <tr>\n",
              "      <th>1</th>\n",
              "      <td>1</td>\n",
              "      <td>5</td>\n",
              "      <td>26706</td>\n",
              "    </tr>\n",
              "    <tr>\n",
              "      <th>2</th>\n",
              "      <td>2</td>\n",
              "      <td>2</td>\n",
              "      <td>55883</td>\n",
              "    </tr>\n",
              "    <tr>\n",
              "      <th>3</th>\n",
              "      <td>3</td>\n",
              "      <td>3</td>\n",
              "      <td>33489</td>\n",
              "    </tr>\n",
              "    <tr>\n",
              "      <th>4</th>\n",
              "      <td>4</td>\n",
              "      <td>1</td>\n",
              "      <td>14820</td>\n",
              "    </tr>\n",
              "    <tr>\n",
              "      <th>5</th>\n",
              "      <td>5</td>\n",
              "      <td>1</td>\n",
              "      <td>5527</td>\n",
              "    </tr>\n",
              "    <tr>\n",
              "      <th>6</th>\n",
              "      <td>5</td>\n",
              "      <td>3</td>\n",
              "      <td>15192</td>\n",
              "    </tr>\n",
              "    <tr>\n",
              "      <th>7</th>\n",
              "      <td>5</td>\n",
              "      <td>4</td>\n",
              "      <td>12065</td>\n",
              "    </tr>\n",
              "    <tr>\n",
              "      <th>8</th>\n",
              "      <td>6</td>\n",
              "      <td>1</td>\n",
              "      <td>50869</td>\n",
              "    </tr>\n",
              "    <tr>\n",
              "      <th>9</th>\n",
              "      <td>7</td>\n",
              "      <td>1</td>\n",
              "      <td>37809</td>\n",
              "    </tr>\n",
              "    <tr>\n",
              "      <th>10</th>\n",
              "      <td>9</td>\n",
              "      <td>0</td>\n",
              "      <td>4462</td>\n",
              "    </tr>\n",
              "    <tr>\n",
              "      <th>11</th>\n",
              "      <td>9</td>\n",
              "      <td>1</td>\n",
              "      <td>12175</td>\n",
              "    </tr>\n",
              "    <tr>\n",
              "      <th>12</th>\n",
              "      <td>9</td>\n",
              "      <td>7</td>\n",
              "      <td>11478</td>\n",
              "    </tr>\n",
              "    <tr>\n",
              "      <th>13</th>\n",
              "      <td>10</td>\n",
              "      <td>4</td>\n",
              "      <td>5684</td>\n",
              "    </tr>\n",
              "    <tr>\n",
              "      <th>14</th>\n",
              "      <td>11</td>\n",
              "      <td>2</td>\n",
              "      <td>18271</td>\n",
              "    </tr>\n",
              "    <tr>\n",
              "      <th>15</th>\n",
              "      <td>13</td>\n",
              "      <td>4</td>\n",
              "      <td>3870</td>\n",
              "    </tr>\n",
              "  </tbody>\n",
              "</table>\n",
              "</div>"
            ],
            "text/plain": [
              "    state_code_resort  resort_type_code  numberofchildren\n",
              "0                   1                 1             33124\n",
              "1                   1                 5             26706\n",
              "2                   2                 2             55883\n",
              "3                   3                 3             33489\n",
              "4                   4                 1             14820\n",
              "5                   5                 1              5527\n",
              "6                   5                 3             15192\n",
              "7                   5                 4             12065\n",
              "8                   6                 1             50869\n",
              "9                   7                 1             37809\n",
              "10                  9                 0              4462\n",
              "11                  9                 1             12175\n",
              "12                  9                 7             11478\n",
              "13                 10                 4              5684\n",
              "14                 11                 2             18271\n",
              "15                 13                 4              3870"
            ]
          },
          "metadata": {
            "tags": []
          },
          "execution_count": 26
        }
      ]
    },
    {
      "cell_type": "code",
      "metadata": {
        "id": "HuYyBFccy7Ln",
        "colab": {
          "base_uri": "https://localhost:8080/",
          "height": 161
        },
        "outputId": "1b863ea2-b1dd-452f-a589-48955b05e1af"
      },
      "source": [
        "plt.figure(figsize=(40,20))\n",
        "#sns.barplot(x='resort_type_code',y='numberofchildren',data=df)\n",
        "sns.catplot(x='resort_type_code',y='numberofchildren',col='state_code_resort',data=df,kind='bar',aspect=0.7)\n",
        "\n",
        "#Resort code 4 is top in terms of number of children"
      ],
      "execution_count": null,
      "outputs": [
        {
          "output_type": "execute_result",
          "data": {
            "text/plain": [
              "<seaborn.axisgrid.FacetGrid at 0x7f263d628e80>"
            ]
          },
          "metadata": {
            "tags": []
          },
          "execution_count": 47
        },
        {
          "output_type": "display_data",
          "data": {
            "text/plain": [
              "<Figure size 2880x1440 with 0 Axes>"
            ]
          },
          "metadata": {
            "tags": []
          }
        },
        {
          "output_type": "display_data",
          "data": {
            "image/png": "[encoded data removed]",
            "text/plain": [
              "<Figure size 2772x360 with 11 Axes>"
            ]
          },
          "metadata": {
            "tags": [],
            "needs_background": "light"
          }
        }
      ]
    },
    {
      "cell_type": "markdown",
      "metadata": {
        "id": "jr6-YBOgu5Rg"
      },
      "source": [
        "### how much time members are spending on resort like spent time, seasons and advance booking time"
      ]
    },
    {
      "cell_type": "code",
      "metadata": {
        "id": "WBaVQDyqXCNu",
        "colab": {
          "base_uri": "https://localhost:8080/",
          "height": 233
        },
        "outputId": "b0605199-1c66-4148-e3bb-b7ef16023d70"
      },
      "source": [
        "df.pivot_table(index=['season_holidayed_code'],values=['roomnights'],columns=['resort_type_code'],aggfunc='sum')"
      ],
      "execution_count": null,
      "outputs": [
        {
          "output_type": "execute_result",
          "data": {
            "text/html": [
              "<div>\n",
              "<style scoped>\n",
              "    .dataframe tbody tr th:only-of-type {\n",
              "        vertical-align: middle;\n",
              "    }\n",
              "\n",
              "    .dataframe tbody tr th {\n",
              "        vertical-align: top;\n",
              "    }\n",
              "\n",
              "    .dataframe thead tr th {\n",
              "        text-align: left;\n",
              "    }\n",
              "\n",
              "    .dataframe thead tr:last-of-type th {\n",
              "        text-align: right;\n",
              "    }\n",
              "</style>\n",
              "<table border=\"1\" class=\"dataframe\">\n",
              "  <thead>\n",
              "    <tr>\n",
              "      <th></th>\n",
              "      <th colspan=\"7\" halign=\"left\">roomnights</th>\n",
              "    </tr>\n",
              "    <tr>\n",
              "      <th>resort_type_code</th>\n",
              "      <th>0</th>\n",
              "      <th>1</th>\n",
              "      <th>2</th>\n",
              "      <th>3</th>\n",
              "      <th>4</th>\n",
              "      <th>5</th>\n",
              "      <th>7</th>\n",
              "    </tr>\n",
              "    <tr>\n",
              "      <th>season_holidayed_code</th>\n",
              "      <th></th>\n",
              "      <th></th>\n",
              "      <th></th>\n",
              "      <th></th>\n",
              "      <th></th>\n",
              "      <th></th>\n",
              "      <th></th>\n",
              "    </tr>\n",
              "  </thead>\n",
              "  <tbody>\n",
              "    <tr>\n",
              "      <th>1.0</th>\n",
              "      <td>1990</td>\n",
              "      <td>51843</td>\n",
              "      <td>19836</td>\n",
              "      <td>13415</td>\n",
              "      <td>5933</td>\n",
              "      <td>7121</td>\n",
              "      <td>3124</td>\n",
              "    </tr>\n",
              "    <tr>\n",
              "      <th>2.0</th>\n",
              "      <td>10171</td>\n",
              "      <td>194668</td>\n",
              "      <td>102948</td>\n",
              "      <td>69328</td>\n",
              "      <td>32841</td>\n",
              "      <td>32425</td>\n",
              "      <td>16323</td>\n",
              "    </tr>\n",
              "    <tr>\n",
              "      <th>3.0</th>\n",
              "      <td>5928</td>\n",
              "      <td>193737</td>\n",
              "      <td>101127</td>\n",
              "      <td>63265</td>\n",
              "      <td>27676</td>\n",
              "      <td>35958</td>\n",
              "      <td>17817</td>\n",
              "    </tr>\n",
              "    <tr>\n",
              "      <th>4.0</th>\n",
              "      <td>1481</td>\n",
              "      <td>109802</td>\n",
              "      <td>66409</td>\n",
              "      <td>39760</td>\n",
              "      <td>18163</td>\n",
              "      <td>23047</td>\n",
              "      <td>9764</td>\n",
              "    </tr>\n",
              "  </tbody>\n",
              "</table>\n",
              "</div>"
            ],
            "text/plain": [
              "                      roomnights                                            \n",
              "resort_type_code               0       1       2      3      4      5      7\n",
              "season_holidayed_code                                                       \n",
              "1.0                         1990   51843   19836  13415   5933   7121   3124\n",
              "2.0                        10171  194668  102948  69328  32841  32425  16323\n",
              "3.0                         5928  193737  101127  63265  27676  35958  17817\n",
              "4.0                         1481  109802   66409  39760  18163  23047   9764"
            ]
          },
          "metadata": {
            "tags": []
          },
          "execution_count": 28
        }
      ]
    },
    {
      "cell_type": "code",
      "metadata": {
        "id": "ARpXwtEq_9Aa",
        "colab": {
          "base_uri": "https://localhost:8080/",
          "height": 373
        },
        "outputId": "00596042-d86f-4668-fa4a-55e4fe687bdf"
      },
      "source": [
        "plt.figure(figsize=(16, 6))\n",
        "df.groupby(['resort_type_code'])['roomnights'].agg(pd.Series.mode).plot.bar()\n",
        "#Resort code 0 has the highest time spent, 5 and 7 has the leaset amount spent time"
      ],
      "execution_count": null,
      "outputs": [
        {
          "output_type": "execute_result",
          "data": {
            "text/plain": [
              "<matplotlib.axes._subplots.AxesSubplot at 0x7f263ca219e8>"
            ]
          },
          "metadata": {
            "tags": []
          },
          "execution_count": 51
        },
        {
          "output_type": "display_data",
          "data": {
            "image/png": "[encoded data removed]",
            "text/plain": [
              "<Figure size 1152x432 with 1 Axes>"
            ]
          },
          "metadata": {
            "tags": [],
            "needs_background": "light"
          }
        }
      ]
    },
    {
      "cell_type": "code",
      "metadata": {
        "id": "rao5HK9f4Lpd",
        "colab": {
          "base_uri": "https://localhost:8080/",
          "height": 295
        },
        "outputId": "96ba1c38-1fdb-40a3-a073-0b0bb3da6d99"
      },
      "source": [
        "df.groupby(['resort_type_code'])['advance_booking'].count().plot.bar()\n",
        "#df['advance_booking'].dtypes\n",
        "#Resort code 1 has the highest advance bookings(use mean or mode)"
      ],
      "execution_count": null,
      "outputs": [
        {
          "output_type": "execute_result",
          "data": {
            "text/plain": [
              "<matplotlib.axes._subplots.AxesSubplot at 0x7f2642e25828>"
            ]
          },
          "metadata": {
            "tags": []
          },
          "execution_count": 30
        },
        {
          "output_type": "display_data",
          "data": {
            "image/png": "[encoded data removed]",
            "text/plain": [
              "<Figure size 432x288 with 1 Axes>"
            ]
          },
          "metadata": {
            "tags": [],
            "needs_background": "light"
          }
        }
      ]
    },
    {
      "cell_type": "code",
      "metadata": {
        "id": "drL-h0896D9r",
        "colab": {
          "base_uri": "https://localhost:8080/",
          "height": 366
        },
        "outputId": "363f95bd-fd91-4359-e3ad-97a3b9b8c596"
      },
      "source": [
        "plt.figure(figsize=(16, 6))\n",
        "df.groupby(['resort_type_code'])['season_holidayed_code'].count().plot.bar()\n",
        "#Resort code 1 has the highest season holiday bookings(use mean or mode)"
      ],
      "execution_count": null,
      "outputs": [
        {
          "output_type": "execute_result",
          "data": {
            "text/plain": [
              "<matplotlib.axes._subplots.AxesSubplot at 0x7f2642d95518>"
            ]
          },
          "metadata": {
            "tags": []
          },
          "execution_count": 31
        },
        {
          "output_type": "display_data",
          "data": {
            "image/png": "[encoded data removed]",
            "text/plain": [
              "<Figure size 1152x432 with 1 Axes>"
            ]
          },
          "metadata": {
            "tags": [],
            "needs_background": "light"
          }
        }
      ]
    },
    {
      "cell_type": "code",
      "metadata": {
        "id": "iLNn7jbKXxLB",
        "colab": {
          "base_uri": "https://localhost:8080/",
          "height": 1000
        },
        "outputId": "5dfb35a5-9878-4732-a3cd-b092b82a9bda"
      },
      "source": [
        "df.pivot_table(index=['resort_id'],values=['advance_booking'],columns=['resort_region_code'],aggfunc='count')"
      ],
      "execution_count": null,
      "outputs": [
        {
          "output_type": "execute_result",
          "data": {
            "text/html": [
              "<div>\n",
              "<style scoped>\n",
              "    .dataframe tbody tr th:only-of-type {\n",
              "        vertical-align: middle;\n",
              "    }\n",
              "\n",
              "    .dataframe tbody tr th {\n",
              "        vertical-align: top;\n",
              "    }\n",
              "\n",
              "    .dataframe thead tr th {\n",
              "        text-align: left;\n",
              "    }\n",
              "\n",
              "    .dataframe thead tr:last-of-type th {\n",
              "        text-align: right;\n",
              "    }\n",
              "</style>\n",
              "<table border=\"1\" class=\"dataframe\">\n",
              "  <thead>\n",
              "    <tr>\n",
              "      <th></th>\n",
              "      <th colspan=\"3\" halign=\"left\">advance_booking</th>\n",
              "    </tr>\n",
              "    <tr>\n",
              "      <th>resort_region_code</th>\n",
              "      <th>1</th>\n",
              "      <th>2</th>\n",
              "      <th>3</th>\n",
              "    </tr>\n",
              "    <tr>\n",
              "      <th>resort_id</th>\n",
              "      <th></th>\n",
              "      <th></th>\n",
              "      <th></th>\n",
              "    </tr>\n",
              "  </thead>\n",
              "  <tbody>\n",
              "    <tr>\n",
              "      <th>0b918943df0962bc7a1824c0555a389347b4febdc7cf9d1254406d80ce44e3f9</th>\n",
              "      <td>NaN</td>\n",
              "      <td>5684.0</td>\n",
              "      <td>NaN</td>\n",
              "    </tr>\n",
              "    <tr>\n",
              "      <th>39fa9ec190eee7b6f4dff1100d6343e10918d044c75eac8f9e9a2596173f80c9</th>\n",
              "      <td>NaN</td>\n",
              "      <td>NaN</td>\n",
              "      <td>5398.0</td>\n",
              "    </tr>\n",
              "    <tr>\n",
              "      <th>3e1e967e9b793e908f8eae83c74dba9bcccce6a5535b4b462bd9994537bfe15c</th>\n",
              "      <td>NaN</td>\n",
              "      <td>NaN</td>\n",
              "      <td>7490.0</td>\n",
              "    </tr>\n",
              "    <tr>\n",
              "      <th>3fdba35f04dc8c462986c992bcf875546257113072a909c162f7e470e581e278</th>\n",
              "      <td>1325.0</td>\n",
              "      <td>NaN</td>\n",
              "      <td>NaN</td>\n",
              "    </tr>\n",
              "    <tr>\n",
              "      <th>48449a14a4ff7d79bb7a1b6f3d488eba397c36ef25634c111b49baf362511afc</th>\n",
              "      <td>5711.0</td>\n",
              "      <td>NaN</td>\n",
              "      <td>NaN</td>\n",
              "    </tr>\n",
              "    <tr>\n",
              "      <th>49d180ecf56132819571bf39d9b7b342522a2ac6d23c1418d3338251bfe469c8</th>\n",
              "      <td>22005.0</td>\n",
              "      <td>NaN</td>\n",
              "      <td>NaN</td>\n",
              "    </tr>\n",
              "    <tr>\n",
              "      <th>4b227777d4dd1fc61c6f884f48641d02b4d121d3fd328cb08b5531fcacdabf8a</th>\n",
              "      <td>1421.0</td>\n",
              "      <td>NaN</td>\n",
              "      <td>NaN</td>\n",
              "    </tr>\n",
              "    <tr>\n",
              "      <th>4e07408562bedb8b60ce05c1decfe3ad16b72230967de01f640b7e4729b49fce</th>\n",
              "      <td>NaN</td>\n",
              "      <td>NaN</td>\n",
              "      <td>3879.0</td>\n",
              "    </tr>\n",
              "    <tr>\n",
              "      <th>4ec9599fc203d176a301536c2e091a19bc852759b255bd6818810a42c5fed14a</th>\n",
              "      <td>NaN</td>\n",
              "      <td>NaN</td>\n",
              "      <td>12065.0</td>\n",
              "    </tr>\n",
              "    <tr>\n",
              "      <th>535fa30d7e25dd8a49f1536779734ec8286108d115da5045d77f3b4185d8f790</th>\n",
              "      <td>10168.0</td>\n",
              "      <td>NaN</td>\n",
              "      <td>NaN</td>\n",
              "    </tr>\n",
              "    <tr>\n",
              "      <th>6208ef0f7750c111548cf90b6ea1d0d0a66f6bff40dbef07cb45ec436263c7d6</th>\n",
              "      <td>NaN</td>\n",
              "      <td>19001.0</td>\n",
              "      <td>NaN</td>\n",
              "    </tr>\n",
              "    <tr>\n",
              "      <th>624b60c58c9d8bfb6ff1886c2fd605d2adeb6ea4da576068201b6c6958ce93f4</th>\n",
              "      <td>NaN</td>\n",
              "      <td>12175.0</td>\n",
              "      <td>NaN</td>\n",
              "    </tr>\n",
              "    <tr>\n",
              "      <th>670671cd97404156226e507973f2ab8330d3022ca96e0c93bdbdb320c41adcaf</th>\n",
              "      <td>NaN</td>\n",
              "      <td>NaN</td>\n",
              "      <td>5527.0</td>\n",
              "    </tr>\n",
              "    <tr>\n",
              "      <th>6b86b273ff34fce19d6b804eff5a3f5747ada4eaa22f1d49c01e52ddb7875b4b</th>\n",
              "      <td>18780.0</td>\n",
              "      <td>NaN</td>\n",
              "      <td>NaN</td>\n",
              "    </tr>\n",
              "    <tr>\n",
              "      <th>7902699be42c8a8e46fbbb4501726517e86b22c56a189f7625a6da49081b2451</th>\n",
              "      <td>NaN</td>\n",
              "      <td>NaN</td>\n",
              "      <td>9794.0</td>\n",
              "    </tr>\n",
              "    <tr>\n",
              "      <th>7f2253d7e228b22a08bda1f09c516f6fead81df6536eb02fa991a34bb38d9be8</th>\n",
              "      <td>NaN</td>\n",
              "      <td>NaN</td>\n",
              "      <td>3918.0</td>\n",
              "    </tr>\n",
              "    <tr>\n",
              "      <th>81b8a03f97e8787c53fe1a86bda042b6f0de9b0ec9c09357e107c99ba4d6948a</th>\n",
              "      <td>5917.0</td>\n",
              "      <td>NaN</td>\n",
              "      <td>NaN</td>\n",
              "    </tr>\n",
              "    <tr>\n",
              "      <th>8722616204217eddb39e7df969e0698aed8e599ba62ed2de1ce49b03ade0fede</th>\n",
              "      <td>NaN</td>\n",
              "      <td>3870.0</td>\n",
              "      <td>NaN</td>\n",
              "    </tr>\n",
              "    <tr>\n",
              "      <th>9400f1b21cb527d7fa3d3eabba93557a18ebe7a2ca4e471cfe5e4c5b4ca7f767</th>\n",
              "      <td>NaN</td>\n",
              "      <td>22344.0</td>\n",
              "      <td>NaN</td>\n",
              "    </tr>\n",
              "    <tr>\n",
              "      <th>98a3ab7c340e8a033e7b37b6ef9428751581760af67bbab2b9e05d4964a8874a</th>\n",
              "      <td>NaN</td>\n",
              "      <td>1551.0</td>\n",
              "      <td>NaN</td>\n",
              "    </tr>\n",
              "    <tr>\n",
              "      <th>9f14025af0065b30e47e23ebb3b491d39ae8ed17d33739e5ff3827ffb3634953</th>\n",
              "      <td>NaN</td>\n",
              "      <td>NaN</td>\n",
              "      <td>8683.0</td>\n",
              "    </tr>\n",
              "    <tr>\n",
              "      <th>a68b412c4282555f15546cf6e1fc42893b7e07f271557ceb021821098dd66c1b</th>\n",
              "      <td>NaN</td>\n",
              "      <td>4462.0</td>\n",
              "      <td>NaN</td>\n",
              "    </tr>\n",
              "    <tr>\n",
              "      <th>b17ef6d19c7a5b1ee83b907c595526dcb1eb06db8227d650d5dda0a9f4ce8cd9</th>\n",
              "      <td>28864.0</td>\n",
              "      <td>NaN</td>\n",
              "      <td>NaN</td>\n",
              "    </tr>\n",
              "    <tr>\n",
              "      <th>c6f3ac57944a531490cd39902d0f777715fd005efac9a30622d5f5205e7f6894</th>\n",
              "      <td>8633.0</td>\n",
              "      <td>NaN</td>\n",
              "      <td>NaN</td>\n",
              "    </tr>\n",
              "    <tr>\n",
              "      <th>c75cb66ae28d8ebc6eded002c28a8ba0d06d3a78c6b5cbf9b2ade051f0775ac4</th>\n",
              "      <td>10621.0</td>\n",
              "      <td>NaN</td>\n",
              "      <td>NaN</td>\n",
              "    </tr>\n",
              "    <tr>\n",
              "      <th>d4735e3a265e16eee03f59718b9b5d03019c07d8b6c51f90da3a666eec13ab35</th>\n",
              "      <td>NaN</td>\n",
              "      <td>35331.0</td>\n",
              "      <td>NaN</td>\n",
              "    </tr>\n",
              "    <tr>\n",
              "      <th>da4ea2a5506f2693eae190d9360a1f31793c98a1adade51d93533a6f520ace1c</th>\n",
              "      <td>NaN</td>\n",
              "      <td>15465.0</td>\n",
              "      <td>NaN</td>\n",
              "    </tr>\n",
              "    <tr>\n",
              "      <th>e29c9c180c6279b0b02abd6a1801c7c04082cf486ec027aa13515e4f3884bb6b</th>\n",
              "      <td>18271.0</td>\n",
              "      <td>NaN</td>\n",
              "      <td>NaN</td>\n",
              "    </tr>\n",
              "    <tr>\n",
              "      <th>e7f6c011776e8db7cd330b54174fd76f7d0216b612387a5ffcfb81e6f0919683</th>\n",
              "      <td>12074.0</td>\n",
              "      <td>NaN</td>\n",
              "      <td>NaN</td>\n",
              "    </tr>\n",
              "    <tr>\n",
              "      <th>ef2d127de37b942baad06145e54b0c619a1f22327b2ebbcfbec78f5564afe39d</th>\n",
              "      <td>NaN</td>\n",
              "      <td>NaN</td>\n",
              "      <td>5309.0</td>\n",
              "    </tr>\n",
              "    <tr>\n",
              "      <th>f5ca38f748a1d6eaf726b8a42fb575c3c71f1864a8143301782de13da2d9202b</th>\n",
              "      <td>NaN</td>\n",
              "      <td>NaN</td>\n",
              "      <td>4210.0</td>\n",
              "    </tr>\n",
              "    <tr>\n",
              "      <th>ff5a1ae012afa5d4c889c50ad427aaf545d31a4fac04ffc1c4d03d403ba4250a</th>\n",
              "      <td>NaN</td>\n",
              "      <td>11478.0</td>\n",
              "      <td>NaN</td>\n",
              "    </tr>\n",
              "  </tbody>\n",
              "</table>\n",
              "</div>"
            ],
            "text/plain": [
              "                                                   advance_booking  ...         \n",
              "resort_region_code                                               1  ...        3\n",
              "resort_id                                                           ...         \n",
              "0b918943df0962bc7a1824c0555a389347b4febdc7cf9d1...             NaN  ...      NaN\n",
              "39fa9ec190eee7b6f4dff1100d6343e10918d044c75eac8...             NaN  ...   5398.0\n",
              "3e1e967e9b793e908f8eae83c74dba9bcccce6a5535b4b4...             NaN  ...   7490.0\n",
              "3fdba35f04dc8c462986c992bcf875546257113072a909c...          1325.0  ...      NaN\n",
              "48449a14a4ff7d79bb7a1b6f3d488eba397c36ef25634c1...          5711.0  ...      NaN\n",
              "49d180ecf56132819571bf39d9b7b342522a2ac6d23c141...         22005.0  ...      NaN\n",
              "4b227777d4dd1fc61c6f884f48641d02b4d121d3fd328cb...          1421.0  ...      NaN\n",
              "4e07408562bedb8b60ce05c1decfe3ad16b72230967de01...             NaN  ...   3879.0\n",
              "4ec9599fc203d176a301536c2e091a19bc852759b255bd6...             NaN  ...  12065.0\n",
              "535fa30d7e25dd8a49f1536779734ec8286108d115da504...         10168.0  ...      NaN\n",
              "6208ef0f7750c111548cf90b6ea1d0d0a66f6bff40dbef0...             NaN  ...      NaN\n",
              "624b60c58c9d8bfb6ff1886c2fd605d2adeb6ea4da57606...             NaN  ...      NaN\n",
              "670671cd97404156226e507973f2ab8330d3022ca96e0c9...             NaN  ...   5527.0\n",
              "6b86b273ff34fce19d6b804eff5a3f5747ada4eaa22f1d4...         18780.0  ...      NaN\n",
              "7902699be42c8a8e46fbbb4501726517e86b22c56a189f7...             NaN  ...   9794.0\n",
              "7f2253d7e228b22a08bda1f09c516f6fead81df6536eb02...             NaN  ...   3918.0\n",
              "81b8a03f97e8787c53fe1a86bda042b6f0de9b0ec9c0935...          5917.0  ...      NaN\n",
              "8722616204217eddb39e7df969e0698aed8e599ba62ed2d...             NaN  ...      NaN\n",
              "9400f1b21cb527d7fa3d3eabba93557a18ebe7a2ca4e471...             NaN  ...      NaN\n",
              "98a3ab7c340e8a033e7b37b6ef9428751581760af67bbab...             NaN  ...      NaN\n",
              "9f14025af0065b30e47e23ebb3b491d39ae8ed17d33739e...             NaN  ...   8683.0\n",
              "a68b412c4282555f15546cf6e1fc42893b7e07f271557ce...             NaN  ...      NaN\n",
              "b17ef6d19c7a5b1ee83b907c595526dcb1eb06db8227d65...         28864.0  ...      NaN\n",
              "c6f3ac57944a531490cd39902d0f777715fd005efac9a30...          8633.0  ...      NaN\n",
              "c75cb66ae28d8ebc6eded002c28a8ba0d06d3a78c6b5cbf...         10621.0  ...      NaN\n",
              "d4735e3a265e16eee03f59718b9b5d03019c07d8b6c51f9...             NaN  ...      NaN\n",
              "da4ea2a5506f2693eae190d9360a1f31793c98a1adade51...             NaN  ...      NaN\n",
              "e29c9c180c6279b0b02abd6a1801c7c04082cf486ec027a...         18271.0  ...      NaN\n",
              "e7f6c011776e8db7cd330b54174fd76f7d0216b612387a5...         12074.0  ...      NaN\n",
              "ef2d127de37b942baad06145e54b0c619a1f22327b2ebbc...             NaN  ...   5309.0\n",
              "f5ca38f748a1d6eaf726b8a42fb575c3c71f1864a814330...             NaN  ...   4210.0\n",
              "ff5a1ae012afa5d4c889c50ad427aaf545d31a4fac04ffc...             NaN  ...      NaN\n",
              "\n",
              "[32 rows x 3 columns]"
            ]
          },
          "metadata": {
            "tags": []
          },
          "execution_count": 32
        }
      ]
    },
    {
      "cell_type": "markdown",
      "metadata": {
        "id": "HijMVoPV8aqf"
      },
      "source": [
        "### Are the any resorts that attract more advanced bookings and why ?"
      ]
    },
    {
      "cell_type": "code",
      "metadata": {
        "id": "ybH2TMcj0Oq9",
        "colab": {
          "base_uri": "https://localhost:8080/",
          "height": 366
        },
        "outputId": "8251f52b-9d5b-4857-b2ba-1859673c2d87"
      },
      "source": [
        "plt.figure(figsize=(16, 6))\n",
        "df.groupby(['resort_type_code'])['advance_booking'].count().plot.bar()\n",
        "#Resort code 1 has the more no.of advanced bookings"
      ],
      "execution_count": null,
      "outputs": [
        {
          "output_type": "execute_result",
          "data": {
            "text/plain": [
              "<matplotlib.axes._subplots.AxesSubplot at 0x7f2642d86f28>"
            ]
          },
          "metadata": {
            "tags": []
          },
          "execution_count": 33
        },
        {
          "output_type": "display_data",
          "data": {
            "image/png": "[encoded data removed]",
            "text/plain": [
              "<Figure size 1152x432 with 1 Axes>"
            ]
          },
          "metadata": {
            "tags": [],
            "needs_background": "light"
          }
        }
      ]
    },
    {
      "cell_type": "code",
      "metadata": {
        "id": "Vak4KoZd89SJ",
        "colab": {
          "base_uri": "https://localhost:8080/",
          "height": 321
        },
        "outputId": "9c5cd5d5-8a0d-4f94-d71c-dce2735bf374"
      },
      "source": [
        "#why\n",
        "df.groupby(['resort_type_code','state_code_resort'])['advance_booking'].count().plot.bar()\n",
        "#there could be many other reasons but stat code resort is one of them"
      ],
      "execution_count": null,
      "outputs": [
        {
          "output_type": "execute_result",
          "data": {
            "text/plain": [
              "<matplotlib.axes._subplots.AxesSubplot at 0x7f2642c95dd8>"
            ]
          },
          "metadata": {
            "tags": []
          },
          "execution_count": 34
        },
        {
          "output_type": "display_data",
          "data": {
            "image/png": "[encoded data removed]",
            "text/plain": [
              "<Figure size 432x288 with 1 Axes>"
            ]
          },
          "metadata": {
            "tags": [],
            "needs_background": "light"
          }
        }
      ]
    },
    {
      "cell_type": "markdown",
      "metadata": {
        "id": "H0RyzEqhAC4c"
      },
      "source": [
        "### is there any relationship between advance booking and time spent"
      ]
    },
    {
      "cell_type": "code",
      "metadata": {
        "id": "U5EOUK1A5b26",
        "colab": {
          "base_uri": "https://localhost:8080/",
          "height": 376
        },
        "outputId": "f6befa96-03d2-4c90-a4c0-0acf768a744b"
      },
      "source": [
        "plt.figure(figsize=(16, 6))\n",
        "df.groupby(['roomnights'])['advance_booking'].count().plot.bar()\n",
        "#No"
      ],
      "execution_count": null,
      "outputs": [
        {
          "output_type": "execute_result",
          "data": {
            "text/plain": [
              "<matplotlib.axes._subplots.AxesSubplot at 0x7f2642d07400>"
            ]
          },
          "metadata": {
            "tags": []
          },
          "execution_count": 35
        },
        {
          "output_type": "display_data",
          "data": {
            "image/png": "[encoded data removed]",
            "text/plain": [
              "<Figure size 1152x432 with 1 Axes>"
            ]
          },
          "metadata": {
            "tags": [],
            "needs_background": "light"
          }
        }
      ]
    },
    {
      "cell_type": "markdown",
      "metadata": {
        "id": "GB8yoRzvByZJ"
      },
      "source": [
        "### Are there any resorts for specific seasons or evernts"
      ]
    },
    {
      "cell_type": "code",
      "metadata": {
        "id": "L3lFW3h13p-1",
        "colab": {
          "base_uri": "https://localhost:8080/",
          "height": 233
        },
        "outputId": "c998454d-d996-4f8d-81dc-f9e6f775dd85"
      },
      "source": [
        "g=df.pivot_table(index=['season_holidayed_code'],values=['reservation_id'],columns=['resort_type_code'],aggfunc='count')\n",
        "g"
      ],
      "execution_count": null,
      "outputs": [
        {
          "output_type": "execute_result",
          "data": {
            "text/html": [
              "<div>\n",
              "<style scoped>\n",
              "    .dataframe tbody tr th:only-of-type {\n",
              "        vertical-align: middle;\n",
              "    }\n",
              "\n",
              "    .dataframe tbody tr th {\n",
              "        vertical-align: top;\n",
              "    }\n",
              "\n",
              "    .dataframe thead tr th {\n",
              "        text-align: left;\n",
              "    }\n",
              "\n",
              "    .dataframe thead tr:last-of-type th {\n",
              "        text-align: right;\n",
              "    }\n",
              "</style>\n",
              "<table border=\"1\" class=\"dataframe\">\n",
              "  <thead>\n",
              "    <tr>\n",
              "      <th></th>\n",
              "      <th colspan=\"7\" halign=\"left\">reservation_id</th>\n",
              "    </tr>\n",
              "    <tr>\n",
              "      <th>resort_type_code</th>\n",
              "      <th>0</th>\n",
              "      <th>1</th>\n",
              "      <th>2</th>\n",
              "      <th>3</th>\n",
              "      <th>4</th>\n",
              "      <th>5</th>\n",
              "      <th>7</th>\n",
              "    </tr>\n",
              "    <tr>\n",
              "      <th>season_holidayed_code</th>\n",
              "      <th></th>\n",
              "      <th></th>\n",
              "      <th></th>\n",
              "      <th></th>\n",
              "      <th></th>\n",
              "      <th></th>\n",
              "      <th></th>\n",
              "    </tr>\n",
              "  </thead>\n",
              "  <tbody>\n",
              "    <tr>\n",
              "      <th>1.0</th>\n",
              "      <td>440</td>\n",
              "      <td>14286</td>\n",
              "      <td>4946</td>\n",
              "      <td>3349</td>\n",
              "      <td>1435</td>\n",
              "      <td>1806</td>\n",
              "      <td>703</td>\n",
              "    </tr>\n",
              "    <tr>\n",
              "      <th>2.0</th>\n",
              "      <td>2439</td>\n",
              "      <td>56889</td>\n",
              "      <td>27257</td>\n",
              "      <td>18546</td>\n",
              "      <td>8566</td>\n",
              "      <td>8920</td>\n",
              "      <td>4154</td>\n",
              "    </tr>\n",
              "    <tr>\n",
              "      <th>3.0</th>\n",
              "      <td>1297</td>\n",
              "      <td>53512</td>\n",
              "      <td>25514</td>\n",
              "      <td>16504</td>\n",
              "      <td>7177</td>\n",
              "      <td>9853</td>\n",
              "      <td>4330</td>\n",
              "    </tr>\n",
              "    <tr>\n",
              "      <th>4.0</th>\n",
              "      <td>286</td>\n",
              "      <td>29523</td>\n",
              "      <td>16437</td>\n",
              "      <td>10282</td>\n",
              "      <td>4441</td>\n",
              "      <td>6127</td>\n",
              "      <td>2291</td>\n",
              "    </tr>\n",
              "  </tbody>\n",
              "</table>\n",
              "</div>"
            ],
            "text/plain": [
              "                      reservation_id                                       \n",
              "resort_type_code                   0      1      2      3     4     5     7\n",
              "season_holidayed_code                                                      \n",
              "1.0                              440  14286   4946   3349  1435  1806   703\n",
              "2.0                             2439  56889  27257  18546  8566  8920  4154\n",
              "3.0                             1297  53512  25514  16504  7177  9853  4330\n",
              "4.0                              286  29523  16437  10282  4441  6127  2291"
            ]
          },
          "metadata": {
            "tags": []
          },
          "execution_count": 36
        }
      ]
    },
    {
      "cell_type": "code",
      "metadata": {
        "id": "clC3LiHyQaTY",
        "colab": {
          "base_uri": "https://localhost:8080/",
          "height": 413
        },
        "outputId": "724fdce6-bfe8-4a5a-a110-82b6f1fe6b8b"
      },
      "source": [
        "plt.figure(figsize=(16, 6))\n",
        "df.groupby(['season_holidayed_code'])['resort_type_code'].count().plot.bar()\n",
        "#Resort code 1  and  holiday season code 2 is the good combination "
      ],
      "execution_count": null,
      "outputs": [
        {
          "output_type": "execute_result",
          "data": {
            "text/plain": [
              "<matplotlib.axes._subplots.AxesSubplot at 0x7f2642ad99e8>"
            ]
          },
          "metadata": {
            "tags": []
          },
          "execution_count": 37
        },
        {
          "output_type": "display_data",
          "data": {
            "image/png": "[encoded data removed]",
            "text/plain": [
              "<Figure size 1152x432 with 1 Axes>"
            ]
          },
          "metadata": {
            "tags": [],
            "needs_background": "light"
          }
        }
      ]
    },
    {
      "cell_type": "markdown",
      "metadata": {
        "id": "k_Z1nYamCjg9"
      },
      "source": [
        "### Can we group resorts by revenue"
      ]
    },
    {
      "cell_type": "code",
      "metadata": {
        "id": "koWnWLC8YpPg",
        "colab": {
          "base_uri": "https://localhost:8080/",
          "height": 294
        },
        "outputId": "2d0722be-fa6d-4dc8-e737-e5d8417bf0b3"
      },
      "source": [
        "#doubt\n",
        "g= df.pivot_table(index=['resort_type_code'],values=['amount_spent_per_room_night_scaled'],aggfunc='sum')\n",
        "g.sort_values(by=['amount_spent_per_room_night_scaled'],inplace=True,ascending=False)\n",
        "g"
      ],
      "execution_count": null,
      "outputs": [
        {
          "output_type": "execute_result",
          "data": {
            "text/html": [
              "<div>\n",
              "<style scoped>\n",
              "    .dataframe tbody tr th:only-of-type {\n",
              "        vertical-align: middle;\n",
              "    }\n",
              "\n",
              "    .dataframe tbody tr th {\n",
              "        vertical-align: top;\n",
              "    }\n",
              "\n",
              "    .dataframe thead th {\n",
              "        text-align: right;\n",
              "    }\n",
              "</style>\n",
              "<table border=\"1\" class=\"dataframe\">\n",
              "  <thead>\n",
              "    <tr style=\"text-align: right;\">\n",
              "      <th></th>\n",
              "      <th>amount_spent_per_room_night_scaled</th>\n",
              "    </tr>\n",
              "    <tr>\n",
              "      <th>resort_type_code</th>\n",
              "      <th></th>\n",
              "    </tr>\n",
              "  </thead>\n",
              "  <tbody>\n",
              "    <tr>\n",
              "      <th>1</th>\n",
              "      <td>1.200020e+06</td>\n",
              "    </tr>\n",
              "    <tr>\n",
              "      <th>2</th>\n",
              "      <td>5.720682e+05</td>\n",
              "    </tr>\n",
              "    <tr>\n",
              "      <th>3</th>\n",
              "      <td>3.649699e+05</td>\n",
              "    </tr>\n",
              "    <tr>\n",
              "      <th>5</th>\n",
              "      <td>2.107243e+05</td>\n",
              "    </tr>\n",
              "    <tr>\n",
              "      <th>4</th>\n",
              "      <td>1.674017e+05</td>\n",
              "    </tr>\n",
              "    <tr>\n",
              "      <th>7</th>\n",
              "      <td>8.668978e+04</td>\n",
              "    </tr>\n",
              "    <tr>\n",
              "      <th>0</th>\n",
              "      <td>3.419315e+04</td>\n",
              "    </tr>\n",
              "  </tbody>\n",
              "</table>\n",
              "</div>"
            ],
            "text/plain": [
              "                  amount_spent_per_room_night_scaled\n",
              "resort_type_code                                    \n",
              "1                                       1.200020e+06\n",
              "2                                       5.720682e+05\n",
              "3                                       3.649699e+05\n",
              "5                                       2.107243e+05\n",
              "4                                       1.674017e+05\n",
              "7                                       8.668978e+04\n",
              "0                                       3.419315e+04"
            ]
          },
          "metadata": {
            "tags": []
          },
          "execution_count": 52
        }
      ]
    },
    {
      "cell_type": "code",
      "metadata": {
        "id": "7wKBxfh0RDbU",
        "colab": {
          "base_uri": "https://localhost:8080/",
          "height": 413
        },
        "outputId": "50bc693a-94d5-41a9-9adb-8116158d6a8b"
      },
      "source": [
        "plt.figure(figsize=(16, 6))\n",
        "df.groupby(['resort_type_code'])['amount_spent_per_room_night_scaled'].sum().plot.bar()\n",
        "#yes.. resort code 1 has the highest revenue"
      ],
      "execution_count": null,
      "outputs": [
        {
          "output_type": "execute_result",
          "data": {
            "text/plain": [
              "<matplotlib.axes._subplots.AxesSubplot at 0x7f2645d16d30>"
            ]
          },
          "metadata": {
            "tags": []
          },
          "execution_count": 39
        },
        {
          "output_type": "display_data",
          "data": {
            "image/png": "[encoded data removed]",
            "text/plain": [
              "<Figure size 1152x432 with 1 Axes>"
            ]
          },
          "metadata": {
            "tags": [],
            "needs_background": "light"
          }
        }
      ]
    }
  ]
}